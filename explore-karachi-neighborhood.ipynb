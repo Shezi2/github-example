{
 "cells": [
  {
   "cell_type": "markdown",
   "metadata": {},
   "source": [
    "# Exploring Neighborhoods in Karachi, Pakistan"
   ]
  },
  {
   "cell_type": "markdown",
   "metadata": {},
   "source": [
    "## Table of Content\n",
    "1. [Introduction](#intro)\n",
    "2. [Data Collection](#dc)\n",
    "3. [Methodology](#meth)\n",
    "4. [Analysis](#ana)\n",
    "5. [Results and Discussion](#rd)\n",
    "6. [Conclusion](#conc)"
   ]
  },
  {
   "cell_type": "markdown",
   "metadata": {},
   "source": [
    "## Introduction <a name=\"intro\"></a>"
   ]
  },
  {
   "cell_type": "markdown",
   "metadata": {},
   "source": [
    "This project aims to identify popular neighborhoods and explore its venues in Karachi, Pakistan which is based on their overall rating, its reviews and also its price ranges using Foursquare API and cluster the neighborhoods and venues to help visitors select the restaurants that suit them the best.\n",
    "\n",
    "Whenever a user is visiting a city they start looking for places to visit during their stay. They primarily look for places based on the venue ratings across all venues and the average prices such that the locations fits in their budget.\n",
    "\n",
    "Here, we'll identify places that are fit for various individuals based on the information collected from the API and Data Science. Once we have the plot neighborhoods with their venues, any company can launch an application using the same data and suggest users such information."
   ]
  },
  {
   "cell_type": "markdown",
   "metadata": {},
   "source": [
    "## Data Collection <a name=\"dc\"></a>"
   ]
  },
  {
   "cell_type": "markdown",
   "metadata": {},
   "source": [
    "According to our problem we need the following data:\n",
    "* Borough\n",
    "* Neighborhood\n",
    "* Venues\n",
    "\n",
    "Following data sources will be needed to extract/generate the required information:\n",
    "\n",
    "Source : https://en.wikipedia.org/wiki/List_of_Union_Councils_of_Karachi"
   ]
  },
  {
   "cell_type": "markdown",
   "metadata": {},
   "source": [
    "We will also fetch the data from APIs.\n",
    "**Foursquare API:** We will use the Foursquare API to fetch venues in Karachi in the radius of 2 Kilometers on each neighborhood."
   ]
  },
  {
   "cell_type": "markdown",
   "metadata": {},
   "source": [
    "### Import Libraries"
   ]
  },
  {
   "cell_type": "code",
   "execution_count": 1,
   "metadata": {},
   "outputs": [],
   "source": [
    "from bs4 import BeautifulSoup\n",
    "import requests\n",
    "import pandas as pd\n",
    "import numpy as np\n",
    "import matplotlib.pyplot as plt\n",
    "import geocoder\n",
    "from geopy.geocoders import Nominatim\n",
    "import folium\n",
    "from pandas.io.json import json_normalize\n",
    "import matplotlib.cm as cm"
   ]
  },
  {
   "cell_type": "markdown",
   "metadata": {},
   "source": [
    "First we will extract borough from the source because both borough and neighborhoods data are on different pages of the website. Then we will loop on the borough data and extract its neighborhood through scraping"
   ]
  },
  {
   "cell_type": "code",
   "execution_count": 2,
   "metadata": {},
   "outputs": [
    {
     "data": {
      "text/plain": [
       "['Baldia Town', 'Bin Qasim Town', 'Gadap Town', 'Gulberg Town', 'Gulshan Town']"
      ]
     },
     "execution_count": 2,
     "metadata": {},
     "output_type": "execute_result"
    }
   ],
   "source": [
    "#for extracting borough\n",
    "source = requests.get('https://en.wikipedia.org/wiki/List_of_Union_Councils_of_Karachi').text\n",
    "soup = BeautifulSoup(source,'lxml')\n",
    "uc_tab = soup.find('div', class_='toc').ul\n",
    "district = []\n",
    "for lis in uc_tab.find_all('li',class_='toclevel-2'):\n",
    "    district.append(lis.find('span', class_='toctext').text)\n",
    "    \n",
    "district[0:5] #display some"
   ]
  },
  {
   "cell_type": "code",
   "execution_count": 3,
   "metadata": {},
   "outputs": [],
   "source": [
    "#now extracting neighborhood\n",
    "town = []\n",
    "districts = [] \n",
    "dist_and_town = {}\n",
    "for dis_links in district:\n",
    "    source2 = requests.get('https://en.wikipedia.org/wiki/{}'.format(dis_links)).text\n",
    "    soup2 = BeautifulSoup(source2,'lxml')\n",
    "    try:\n",
    "        neigh_tab = soup2.find('div',class_='div-col columns column-width')\n",
    "        for lis2 in neigh_tab.find_all('li'):\n",
    "            town.append(lis2.text)\n",
    "            districts.append(dis_links)\n",
    "    except Exception as e:\n",
    "        pass\n",
    "\n",
    "dist_and_town = {'Borough':districts,'Neighborhood':town}"
   ]
  },
  {
   "cell_type": "markdown",
   "metadata": {},
   "source": [
    "We will create dataframe from the scrape data"
   ]
  },
  {
   "cell_type": "code",
   "execution_count": 4,
   "metadata": {
    "scrolled": true
   },
   "outputs": [
    {
     "data": {
      "text/html": [
       "<div>\n",
       "<style scoped>\n",
       "    .dataframe tbody tr th:only-of-type {\n",
       "        vertical-align: middle;\n",
       "    }\n",
       "\n",
       "    .dataframe tbody tr th {\n",
       "        vertical-align: top;\n",
       "    }\n",
       "\n",
       "    .dataframe thead th {\n",
       "        text-align: right;\n",
       "    }\n",
       "</style>\n",
       "<table border=\"1\" class=\"dataframe\">\n",
       "  <thead>\n",
       "    <tr style=\"text-align: right;\">\n",
       "      <th></th>\n",
       "      <th>Borough</th>\n",
       "      <th>Neighborhood</th>\n",
       "    </tr>\n",
       "  </thead>\n",
       "  <tbody>\n",
       "    <tr>\n",
       "      <th>0</th>\n",
       "      <td>Bin Qasim Town</td>\n",
       "      <td>Abdullah Goth</td>\n",
       "    </tr>\n",
       "    <tr>\n",
       "      <th>1</th>\n",
       "      <td>Bin Qasim Town</td>\n",
       "      <td>Cattle Colony</td>\n",
       "    </tr>\n",
       "    <tr>\n",
       "      <th>2</th>\n",
       "      <td>Bin Qasim Town</td>\n",
       "      <td>Gaghar</td>\n",
       "    </tr>\n",
       "    <tr>\n",
       "      <th>3</th>\n",
       "      <td>Bin Qasim Town</td>\n",
       "      <td>Green Park City</td>\n",
       "    </tr>\n",
       "    <tr>\n",
       "      <th>4</th>\n",
       "      <td>Bin Qasim Town</td>\n",
       "      <td>Gulshan-e-Hadeed</td>\n",
       "    </tr>\n",
       "  </tbody>\n",
       "</table>\n",
       "</div>"
      ],
      "text/plain": [
       "          Borough      Neighborhood\n",
       "0  Bin Qasim Town     Abdullah Goth\n",
       "1  Bin Qasim Town     Cattle Colony\n",
       "2  Bin Qasim Town            Gaghar\n",
       "3  Bin Qasim Town   Green Park City\n",
       "4  Bin Qasim Town  Gulshan-e-Hadeed"
      ]
     },
     "execution_count": 4,
     "metadata": {},
     "output_type": "execute_result"
    }
   ],
   "source": [
    "df_khi = pd.DataFrame(dist_and_town)\n",
    "df_khi.head()"
   ]
  },
  {
   "cell_type": "code",
   "execution_count": 5,
   "metadata": {},
   "outputs": [
    {
     "data": {
      "text/plain": [
       "(220, 2)"
      ]
     },
     "execution_count": 5,
     "metadata": {},
     "output_type": "execute_result"
    }
   ],
   "source": [
    "df_khi.shape"
   ]
  },
  {
   "cell_type": "markdown",
   "metadata": {},
   "source": [
    "**Some data also added manually**"
   ]
  },
  {
   "cell_type": "code",
   "execution_count": 6,
   "metadata": {},
   "outputs": [
    {
     "data": {
      "text/html": [
       "<div>\n",
       "<style scoped>\n",
       "    .dataframe tbody tr th:only-of-type {\n",
       "        vertical-align: middle;\n",
       "    }\n",
       "\n",
       "    .dataframe tbody tr th {\n",
       "        vertical-align: top;\n",
       "    }\n",
       "\n",
       "    .dataframe thead th {\n",
       "        text-align: right;\n",
       "    }\n",
       "</style>\n",
       "<table border=\"1\" class=\"dataframe\">\n",
       "  <thead>\n",
       "    <tr style=\"text-align: right;\">\n",
       "      <th></th>\n",
       "      <th>Borough</th>\n",
       "      <th>Neighborhood</th>\n",
       "    </tr>\n",
       "  </thead>\n",
       "  <tbody>\n",
       "    <tr>\n",
       "      <th>0</th>\n",
       "      <td>Bin Qasim Town</td>\n",
       "      <td>Abdullah Goth</td>\n",
       "    </tr>\n",
       "    <tr>\n",
       "      <th>1</th>\n",
       "      <td>Bin Qasim Town</td>\n",
       "      <td>Cattle Colony</td>\n",
       "    </tr>\n",
       "    <tr>\n",
       "      <th>2</th>\n",
       "      <td>Bin Qasim Town</td>\n",
       "      <td>Gaghar</td>\n",
       "    </tr>\n",
       "    <tr>\n",
       "      <th>3</th>\n",
       "      <td>Bin Qasim Town</td>\n",
       "      <td>Green Park City</td>\n",
       "    </tr>\n",
       "    <tr>\n",
       "      <th>4</th>\n",
       "      <td>Bin Qasim Town</td>\n",
       "      <td>Gulshan-e-Hadeed</td>\n",
       "    </tr>\n",
       "  </tbody>\n",
       "</table>\n",
       "</div>"
      ],
      "text/plain": [
       "          Borough      Neighborhood\n",
       "0  Bin Qasim Town     Abdullah Goth\n",
       "1  Bin Qasim Town     Cattle Colony\n",
       "2  Bin Qasim Town            Gaghar\n",
       "3  Bin Qasim Town   Green Park City\n",
       "4  Bin Qasim Town  Gulshan-e-Hadeed"
      ]
     },
     "execution_count": 6,
     "metadata": {},
     "output_type": "execute_result"
    }
   ],
   "source": [
    "#read file\n",
    "df_khi = pd.read_csv('karachi_district.csv')\n",
    "df_khi.head()"
   ]
  },
  {
   "cell_type": "code",
   "execution_count": 7,
   "metadata": {},
   "outputs": [
    {
     "data": {
      "text/plain": [
       "(294, 2)"
      ]
     },
     "execution_count": 7,
     "metadata": {},
     "output_type": "execute_result"
    }
   ],
   "source": [
    "df_khi.shape"
   ]
  },
  {
   "cell_type": "markdown",
   "metadata": {},
   "source": [
    "**Find the Co-ordiantes of each Neighborhood**"
   ]
  },
  {
   "cell_type": "code",
   "execution_count": 8,
   "metadata": {
    "scrolled": true
   },
   "outputs": [],
   "source": [
    "latitude = []\n",
    "longitude = []\n",
    "for t_loc in df_khi['Neighborhood']: \n",
    "    address = '{},Karachi,Pakistan'.format(t_loc)\n",
    "    geolocator = Nominatim(user_agent='khi_explorer')\n",
    "    location = geolocator.geocode(address,timeout=1000)\n",
    "    try:\n",
    "        latitude.append(location.latitude)\n",
    "        longitude.append(location.longitude)\n",
    "    except Exception as e:\n",
    "        latitude.append(\"\")\n",
    "        longitude.append(\"\")"
   ]
  },
  {
   "cell_type": "code",
   "execution_count": 9,
   "metadata": {},
   "outputs": [
    {
     "data": {
      "text/html": [
       "<div>\n",
       "<style scoped>\n",
       "    .dataframe tbody tr th:only-of-type {\n",
       "        vertical-align: middle;\n",
       "    }\n",
       "\n",
       "    .dataframe tbody tr th {\n",
       "        vertical-align: top;\n",
       "    }\n",
       "\n",
       "    .dataframe thead th {\n",
       "        text-align: right;\n",
       "    }\n",
       "</style>\n",
       "<table border=\"1\" class=\"dataframe\">\n",
       "  <thead>\n",
       "    <tr style=\"text-align: right;\">\n",
       "      <th></th>\n",
       "      <th>Borough</th>\n",
       "      <th>Neighborhood</th>\n",
       "      <th>Latitude</th>\n",
       "      <th>Longitude</th>\n",
       "    </tr>\n",
       "  </thead>\n",
       "  <tbody>\n",
       "    <tr>\n",
       "      <th>0</th>\n",
       "      <td>Bin Qasim Town</td>\n",
       "      <td>Abdullah Goth</td>\n",
       "      <td>24.8665</td>\n",
       "      <td>67.2837</td>\n",
       "    </tr>\n",
       "    <tr>\n",
       "      <th>1</th>\n",
       "      <td>Bin Qasim Town</td>\n",
       "      <td>Cattle Colony</td>\n",
       "      <td>24.8793</td>\n",
       "      <td>67.1987</td>\n",
       "    </tr>\n",
       "    <tr>\n",
       "      <th>2</th>\n",
       "      <td>Bin Qasim Town</td>\n",
       "      <td>Gaghar</td>\n",
       "      <td></td>\n",
       "      <td></td>\n",
       "    </tr>\n",
       "    <tr>\n",
       "      <th>3</th>\n",
       "      <td>Bin Qasim Town</td>\n",
       "      <td>Green Park City</td>\n",
       "      <td>24.8577</td>\n",
       "      <td>67.2225</td>\n",
       "    </tr>\n",
       "    <tr>\n",
       "      <th>4</th>\n",
       "      <td>Bin Qasim Town</td>\n",
       "      <td>Gulshan-e-Hadeed</td>\n",
       "      <td>24.87</td>\n",
       "      <td>67.3601</td>\n",
       "    </tr>\n",
       "  </tbody>\n",
       "</table>\n",
       "</div>"
      ],
      "text/plain": [
       "          Borough      Neighborhood Latitude Longitude\n",
       "0  Bin Qasim Town     Abdullah Goth  24.8665   67.2837\n",
       "1  Bin Qasim Town     Cattle Colony  24.8793   67.1987\n",
       "2  Bin Qasim Town            Gaghar                   \n",
       "3  Bin Qasim Town   Green Park City  24.8577   67.2225\n",
       "4  Bin Qasim Town  Gulshan-e-Hadeed    24.87   67.3601"
      ]
     },
     "execution_count": 9,
     "metadata": {},
     "output_type": "execute_result"
    }
   ],
   "source": [
    "df_khi['Latitude'] = latitude\n",
    "df_khi['Longitude'] = longitude\n",
    "df_khi.head()"
   ]
  },
  {
   "cell_type": "markdown",
   "metadata": {},
   "source": [
    "We have to drop the data which dont have the Longitude and Latitude"
   ]
  },
  {
   "cell_type": "code",
   "execution_count": 10,
   "metadata": {},
   "outputs": [
    {
     "data": {
      "text/plain": [
       "81"
      ]
     },
     "execution_count": 10,
     "metadata": {},
     "output_type": "execute_result"
    }
   ],
   "source": [
    "#first check\n",
    "len(df_khi[df_khi['Latitude'] == ''])"
   ]
  },
  {
   "cell_type": "code",
   "execution_count": 11,
   "metadata": {},
   "outputs": [],
   "source": [
    "#drop\n",
    "df_khi.drop(df_khi[df_khi['Latitude'] == \"\"].index,axis=0,inplace=True)"
   ]
  },
  {
   "cell_type": "code",
   "execution_count": 12,
   "metadata": {},
   "outputs": [
    {
     "data": {
      "text/plain": [
       "0"
      ]
     },
     "execution_count": 12,
     "metadata": {},
     "output_type": "execute_result"
    }
   ],
   "source": [
    "#check again\n",
    "len(df_khi[df_khi['Latitude'] == ''])"
   ]
  },
  {
   "cell_type": "code",
   "execution_count": 13,
   "metadata": {},
   "outputs": [
    {
     "data": {
      "text/html": [
       "<div>\n",
       "<style scoped>\n",
       "    .dataframe tbody tr th:only-of-type {\n",
       "        vertical-align: middle;\n",
       "    }\n",
       "\n",
       "    .dataframe tbody tr th {\n",
       "        vertical-align: top;\n",
       "    }\n",
       "\n",
       "    .dataframe thead th {\n",
       "        text-align: right;\n",
       "    }\n",
       "</style>\n",
       "<table border=\"1\" class=\"dataframe\">\n",
       "  <thead>\n",
       "    <tr style=\"text-align: right;\">\n",
       "      <th></th>\n",
       "      <th>Borough</th>\n",
       "      <th>Neighborhood</th>\n",
       "      <th>Latitude</th>\n",
       "      <th>Longitude</th>\n",
       "    </tr>\n",
       "  </thead>\n",
       "  <tbody>\n",
       "    <tr>\n",
       "      <th>0</th>\n",
       "      <td>Bin Qasim Town</td>\n",
       "      <td>Abdullah Goth</td>\n",
       "      <td>24.8665</td>\n",
       "      <td>67.2837</td>\n",
       "    </tr>\n",
       "    <tr>\n",
       "      <th>1</th>\n",
       "      <td>Bin Qasim Town</td>\n",
       "      <td>Cattle Colony</td>\n",
       "      <td>24.8793</td>\n",
       "      <td>67.1987</td>\n",
       "    </tr>\n",
       "    <tr>\n",
       "      <th>3</th>\n",
       "      <td>Bin Qasim Town</td>\n",
       "      <td>Green Park City</td>\n",
       "      <td>24.8577</td>\n",
       "      <td>67.2225</td>\n",
       "    </tr>\n",
       "    <tr>\n",
       "      <th>4</th>\n",
       "      <td>Bin Qasim Town</td>\n",
       "      <td>Gulshan-e-Hadeed</td>\n",
       "      <td>24.87</td>\n",
       "      <td>67.3601</td>\n",
       "    </tr>\n",
       "    <tr>\n",
       "      <th>5</th>\n",
       "      <td>Bin Qasim Town</td>\n",
       "      <td>Ibrahim Hyderi</td>\n",
       "      <td>24.7916</td>\n",
       "      <td>67.1409</td>\n",
       "    </tr>\n",
       "  </tbody>\n",
       "</table>\n",
       "</div>"
      ],
      "text/plain": [
       "          Borough      Neighborhood Latitude Longitude\n",
       "0  Bin Qasim Town     Abdullah Goth  24.8665   67.2837\n",
       "1  Bin Qasim Town     Cattle Colony  24.8793   67.1987\n",
       "3  Bin Qasim Town   Green Park City  24.8577   67.2225\n",
       "4  Bin Qasim Town  Gulshan-e-Hadeed    24.87   67.3601\n",
       "5  Bin Qasim Town    Ibrahim Hyderi  24.7916   67.1409"
      ]
     },
     "execution_count": 13,
     "metadata": {},
     "output_type": "execute_result"
    }
   ],
   "source": [
    "df_khi.head()"
   ]
  },
  {
   "cell_type": "code",
   "execution_count": 14,
   "metadata": {},
   "outputs": [
    {
     "data": {
      "text/plain": [
       "(213, 4)"
      ]
     },
     "execution_count": 14,
     "metadata": {},
     "output_type": "execute_result"
    }
   ],
   "source": [
    "df_khi.shape"
   ]
  },
  {
   "cell_type": "markdown",
   "metadata": {},
   "source": [
    "We can use the geopy library to extract the latitude and longitude values of karachi but it seems off and thus, we'll directly supply the values in this case.\n",
    "\n",
    "Let's use the folium library to create a complete map of Karachi and its neighborhoods superimpose on them"
   ]
  },
  {
   "cell_type": "code",
   "execution_count": 15,
   "metadata": {},
   "outputs": [],
   "source": [
    "map_khi = folium.Map(\n",
    "    location=[24.9008, 67.1681], \n",
    "    zoom_start=10\n",
    ")"
   ]
  },
  {
   "cell_type": "markdown",
   "metadata": {},
   "source": [
    "### Define Foursquare Credentials and Version"
   ]
  },
  {
   "cell_type": "code",
   "execution_count": 16,
   "metadata": {},
   "outputs": [
    {
     "name": "stdout",
     "output_type": "stream",
     "text": [
      "My credentails:\n",
      "CLIENT_ID: YNHW0YK3AVH1W52ZVN5JBUXILERKT20M1FHTSURIKUBX44Q0\n",
      "CLIENT_SECRET:I3VT2XGXAG34A4RQXAJCRBUI2ELJVQJLQXG5VST2OLIBZRJR\n"
     ]
    }
   ],
   "source": [
    "CLIENT_ID = 'YNHW0YK3AVH1W52ZVN5JBUXILERKT20M1FHTSURIKUBX44Q0' # your Foursquare ID\n",
    "CLIENT_SECRET = 'I3VT2XGXAG34A4RQXAJCRBUI2ELJVQJLQXG5VST2OLIBZRJR' # your Foursquare Secret\n",
    "VERSION = '20180605' # Foursquare API version\n",
    "LIMIT = 100\n",
    "\n",
    "print('My credentails:')\n",
    "print('CLIENT_ID: ' + CLIENT_ID)\n",
    "print('CLIENT_SECRET:' + CLIENT_SECRET)"
   ]
  },
  {
   "cell_type": "markdown",
   "metadata": {},
   "source": [
    "###  Explore Each Neighborhood's Venues in Karachi"
   ]
  },
  {
   "cell_type": "markdown",
   "metadata": {},
   "source": [
    "Create a function to extract the venues from each Neighborhood"
   ]
  },
  {
   "cell_type": "code",
   "execution_count": 17,
   "metadata": {},
   "outputs": [],
   "source": [
    "def getNearbyVenues(names, latitudes, longitudes, radius=2000):\n",
    "    \n",
    "    venues_list=[]\n",
    "    for name, lat, lng in zip(names, latitudes, longitudes):  \n",
    "        # create the API request URL\n",
    "        url = 'https://api.foursquare.com/v2/venues/explore?&client_id={}&client_secret={}&v={}&ll={},{}&radius={}&limit={}'.format(\n",
    "            CLIENT_ID, \n",
    "            CLIENT_SECRET, \n",
    "            VERSION, \n",
    "            lat, \n",
    "            lng, \n",
    "            radius, \n",
    "            LIMIT)\n",
    "            \n",
    "        # make the GET request\n",
    "        results = requests.get(url).json()[\"response\"]['groups'][0]['items']\n",
    "        \n",
    "        # return only relevant information for each nearby venue\n",
    "        venues_list.append([(\n",
    "            name, \n",
    "            lat, \n",
    "            lng, \n",
    "            v['venue']['id'],\n",
    "            v['venue']['name'], \n",
    "            v['venue']['location']['lat'], \n",
    "            v['venue']['location']['lng'],  \n",
    "            v['venue']['categories'][0]['name']) for v in results])\n",
    "\n",
    "    nearby_venues = pd.DataFrame([item for venue_list in venues_list for item in venue_list])\n",
    "    nearby_venues.columns = ['Neighborhood', \n",
    "                  'Neighborhood Latitude', \n",
    "                  'Neighborhood Longitude', \n",
    "                  'Venue ID','Venue', \n",
    "                  'Venue Latitude', \n",
    "                  'Venue Longitude', \n",
    "                  'Venue Category']\n",
    "    \n",
    "    return(nearby_venues)"
   ]
  },
  {
   "cell_type": "code",
   "execution_count": null,
   "metadata": {
    "jupyter": {
     "outputs_hidden": true
    }
   },
   "outputs": [],
   "source": [
    "khi_venues = getNearbyVenues(names=df_khi['Neighborhood'],\n",
    "                                   latitudes=df_khi['Latitude'],\n",
    "                                   longitudes=df_khi['Longitude']\n",
    "                                  )\n"
   ]
  },
  {
   "cell_type": "code",
   "execution_count": 19,
   "metadata": {},
   "outputs": [],
   "source": [
    "#I save it not to run again and again\n",
    "khi_venues = pd.read_csv('karachi_venues.csv')"
   ]
  },
  {
   "cell_type": "code",
   "execution_count": 20,
   "metadata": {},
   "outputs": [
    {
     "name": "stdout",
     "output_type": "stream",
     "text": [
      "(3113, 8)\n"
     ]
    },
    {
     "data": {
      "text/html": [
       "<div>\n",
       "<style scoped>\n",
       "    .dataframe tbody tr th:only-of-type {\n",
       "        vertical-align: middle;\n",
       "    }\n",
       "\n",
       "    .dataframe tbody tr th {\n",
       "        vertical-align: top;\n",
       "    }\n",
       "\n",
       "    .dataframe thead th {\n",
       "        text-align: right;\n",
       "    }\n",
       "</style>\n",
       "<table border=\"1\" class=\"dataframe\">\n",
       "  <thead>\n",
       "    <tr style=\"text-align: right;\">\n",
       "      <th></th>\n",
       "      <th>Neighborhood</th>\n",
       "      <th>Neighborhood Latitude</th>\n",
       "      <th>Neighborhood Longitude</th>\n",
       "      <th>Venue ID</th>\n",
       "      <th>Venue</th>\n",
       "      <th>Venue Latitude</th>\n",
       "      <th>Venue Longitude</th>\n",
       "      <th>Venue Category</th>\n",
       "    </tr>\n",
       "  </thead>\n",
       "  <tbody>\n",
       "    <tr>\n",
       "      <th>0</th>\n",
       "      <td>Cattle Colony</td>\n",
       "      <td>24.879311</td>\n",
       "      <td>67.198723</td>\n",
       "      <td>4ca21645e44d6dcb4dde0375</td>\n",
       "      <td>Anwar Baloch</td>\n",
       "      <td>24.869620</td>\n",
       "      <td>67.200499</td>\n",
       "      <td>BBQ Joint</td>\n",
       "    </tr>\n",
       "    <tr>\n",
       "      <th>1</th>\n",
       "      <td>Cattle Colony</td>\n",
       "      <td>24.879311</td>\n",
       "      <td>67.198723</td>\n",
       "      <td>4dbadad51e72b351ca89bc12</td>\n",
       "      <td>The Broast Restaurant</td>\n",
       "      <td>24.884536</td>\n",
       "      <td>67.182993</td>\n",
       "      <td>Fast Food Restaurant</td>\n",
       "    </tr>\n",
       "    <tr>\n",
       "      <th>2</th>\n",
       "      <td>Cattle Colony</td>\n",
       "      <td>24.879311</td>\n",
       "      <td>67.198723</td>\n",
       "      <td>4fe5a492e4b02e4293b64533</td>\n",
       "      <td>Student Biryani</td>\n",
       "      <td>24.884636</td>\n",
       "      <td>67.182260</td>\n",
       "      <td>Restaurant</td>\n",
       "    </tr>\n",
       "    <tr>\n",
       "      <th>3</th>\n",
       "      <td>Cattle Colony</td>\n",
       "      <td>24.879311</td>\n",
       "      <td>67.198723</td>\n",
       "      <td>4ec2103893ad36d7aa12a7c5</td>\n",
       "      <td>Taj Chaiye Ka Hotel</td>\n",
       "      <td>24.887062</td>\n",
       "      <td>67.183052</td>\n",
       "      <td>Tea Room</td>\n",
       "    </tr>\n",
       "    <tr>\n",
       "      <th>4</th>\n",
       "      <td>Cattle Colony</td>\n",
       "      <td>24.879311</td>\n",
       "      <td>67.198723</td>\n",
       "      <td>4ec785a0722e1437965e2e90</td>\n",
       "      <td>Liaquat Market</td>\n",
       "      <td>24.887072</td>\n",
       "      <td>67.183061</td>\n",
       "      <td>Market</td>\n",
       "    </tr>\n",
       "  </tbody>\n",
       "</table>\n",
       "</div>"
      ],
      "text/plain": [
       "    Neighborhood  Neighborhood Latitude  Neighborhood Longitude  \\\n",
       "0  Cattle Colony              24.879311               67.198723   \n",
       "1  Cattle Colony              24.879311               67.198723   \n",
       "2  Cattle Colony              24.879311               67.198723   \n",
       "3  Cattle Colony              24.879311               67.198723   \n",
       "4  Cattle Colony              24.879311               67.198723   \n",
       "\n",
       "                   Venue ID                  Venue  Venue Latitude  \\\n",
       "0  4ca21645e44d6dcb4dde0375           Anwar Baloch       24.869620   \n",
       "1  4dbadad51e72b351ca89bc12  The Broast Restaurant       24.884536   \n",
       "2  4fe5a492e4b02e4293b64533        Student Biryani       24.884636   \n",
       "3  4ec2103893ad36d7aa12a7c5    Taj Chaiye Ka Hotel       24.887062   \n",
       "4  4ec785a0722e1437965e2e90         Liaquat Market       24.887072   \n",
       "\n",
       "   Venue Longitude        Venue Category  \n",
       "0        67.200499             BBQ Joint  \n",
       "1        67.182993  Fast Food Restaurant  \n",
       "2        67.182260            Restaurant  \n",
       "3        67.183052              Tea Room  \n",
       "4        67.183061                Market  "
      ]
     },
     "execution_count": 20,
     "metadata": {},
     "output_type": "execute_result"
    }
   ],
   "source": [
    "print(khi_venues.shape)\n",
    "khi_venues.head()"
   ]
  },
  {
   "cell_type": "markdown",
   "metadata": {},
   "source": [
    "Now we want to explore each venues from the dataframe like its ratings, price ranges and tips."
   ]
  },
  {
   "cell_type": "code",
   "execution_count": 21,
   "metadata": {},
   "outputs": [],
   "source": [
    "def append_str(re):\n",
    "    try:\n",
    "        rating = re['rating']\n",
    "    except:\n",
    "        rating = 0\n",
    "    try:\n",
    "        tips = re['tips']['count']\n",
    "    except:\n",
    "        tips = 0\n",
    "    try:\n",
    "        price = re['price']['message']\n",
    "    except:\n",
    "        price = \"Not listed\"\n",
    "\n",
    "    return rating,tips,price"
   ]
  },
  {
   "cell_type": "code",
   "execution_count": null,
   "metadata": {},
   "outputs": [],
   "source": [
    "venues_data = []\n",
    "for v_id in khi_venues['Venue ID'].head(500):  #we'll explore only 500 venues because of API calls limitation\n",
    "    venue_id = '4b89778df964a520073932e3'\n",
    "    url = 'https://api.foursquare.com/v2/venues/{}?client_id={}&client_secret={}&v={}'.format(\n",
    "        venue_id,\n",
    "        CLIENT_ID,\n",
    "        CLIENT_SECRET,\n",
    "        VERSION\n",
    "    )\n",
    "    \n",
    "    results = requests.get(url).json()\n",
    "    #print(results['response']['venue']['rating'],results['response']['venue']['tips']['count'])\n",
    "    venues_data.append(append_str(results['response']['venue']))\n",
    "\n",
    "venues_data"
   ]
  },
  {
   "cell_type": "code",
   "execution_count": null,
   "metadata": {},
   "outputs": [],
   "source": [
    "total_venues = pd.DataFrame(venues_data, columns=['Ratings','Tips','Price'])"
   ]
  },
  {
   "cell_type": "code",
   "execution_count": 22,
   "metadata": {},
   "outputs": [
    {
     "data": {
      "text/html": [
       "<div>\n",
       "<style scoped>\n",
       "    .dataframe tbody tr th:only-of-type {\n",
       "        vertical-align: middle;\n",
       "    }\n",
       "\n",
       "    .dataframe tbody tr th {\n",
       "        vertical-align: top;\n",
       "    }\n",
       "\n",
       "    .dataframe thead th {\n",
       "        text-align: right;\n",
       "    }\n",
       "</style>\n",
       "<table border=\"1\" class=\"dataframe\">\n",
       "  <thead>\n",
       "    <tr style=\"text-align: right;\">\n",
       "      <th></th>\n",
       "      <th>Ratings</th>\n",
       "      <th>Tips</th>\n",
       "      <th>Price</th>\n",
       "    </tr>\n",
       "  </thead>\n",
       "  <tbody>\n",
       "    <tr>\n",
       "      <th>0</th>\n",
       "      <td>7.1</td>\n",
       "      <td>13</td>\n",
       "      <td>Moderate</td>\n",
       "    </tr>\n",
       "    <tr>\n",
       "      <th>1</th>\n",
       "      <td>0.0</td>\n",
       "      <td>1</td>\n",
       "      <td>Cheap</td>\n",
       "    </tr>\n",
       "    <tr>\n",
       "      <th>2</th>\n",
       "      <td>0.0</td>\n",
       "      <td>0</td>\n",
       "      <td>Moderate</td>\n",
       "    </tr>\n",
       "    <tr>\n",
       "      <th>3</th>\n",
       "      <td>0.0</td>\n",
       "      <td>1</td>\n",
       "      <td>Moderate</td>\n",
       "    </tr>\n",
       "    <tr>\n",
       "      <th>4</th>\n",
       "      <td>0.0</td>\n",
       "      <td>3</td>\n",
       "      <td>Not listed</td>\n",
       "    </tr>\n",
       "  </tbody>\n",
       "</table>\n",
       "</div>"
      ],
      "text/plain": [
       "   Ratings  Tips       Price\n",
       "0      7.1    13    Moderate\n",
       "1      0.0     1       Cheap\n",
       "2      0.0     0    Moderate\n",
       "3      0.0     1    Moderate\n",
       "4      0.0     3  Not listed"
      ]
     },
     "execution_count": 22,
     "metadata": {},
     "output_type": "execute_result"
    }
   ],
   "source": [
    "#T saved it to not utilize my calls again\n",
    "total_venues = pd.read_csv(\"total_venues.csv\")\n",
    "total_venues.head()"
   ]
  },
  {
   "cell_type": "code",
   "execution_count": 23,
   "metadata": {},
   "outputs": [
    {
     "data": {
      "text/plain": [
       "(501, 3)"
      ]
     },
     "execution_count": 23,
     "metadata": {},
     "output_type": "execute_result"
    }
   ],
   "source": [
    "total_venues.shape"
   ]
  },
  {
   "cell_type": "markdown",
   "metadata": {},
   "source": [
    "**Filter venues**"
   ]
  },
  {
   "cell_type": "code",
   "execution_count": 24,
   "metadata": {},
   "outputs": [
    {
     "data": {
      "text/html": [
       "<div>\n",
       "<style scoped>\n",
       "    .dataframe tbody tr th:only-of-type {\n",
       "        vertical-align: middle;\n",
       "    }\n",
       "\n",
       "    .dataframe tbody tr th {\n",
       "        vertical-align: top;\n",
       "    }\n",
       "\n",
       "    .dataframe thead th {\n",
       "        text-align: right;\n",
       "    }\n",
       "</style>\n",
       "<table border=\"1\" class=\"dataframe\">\n",
       "  <thead>\n",
       "    <tr style=\"text-align: right;\">\n",
       "      <th></th>\n",
       "      <th>Ratings</th>\n",
       "      <th>Tips</th>\n",
       "      <th>Price</th>\n",
       "    </tr>\n",
       "  </thead>\n",
       "  <tbody>\n",
       "    <tr>\n",
       "      <th>0</th>\n",
       "      <td>7.1</td>\n",
       "      <td>13</td>\n",
       "      <td>Moderate</td>\n",
       "    </tr>\n",
       "    <tr>\n",
       "      <th>17</th>\n",
       "      <td>8.6</td>\n",
       "      <td>5</td>\n",
       "      <td>Cheap</td>\n",
       "    </tr>\n",
       "    <tr>\n",
       "      <th>18</th>\n",
       "      <td>7.5</td>\n",
       "      <td>2</td>\n",
       "      <td>Cheap</td>\n",
       "    </tr>\n",
       "    <tr>\n",
       "      <th>19</th>\n",
       "      <td>7.3</td>\n",
       "      <td>8</td>\n",
       "      <td>Cheap</td>\n",
       "    </tr>\n",
       "    <tr>\n",
       "      <th>20</th>\n",
       "      <td>7.6</td>\n",
       "      <td>3</td>\n",
       "      <td>Cheap</td>\n",
       "    </tr>\n",
       "    <tr>\n",
       "      <th>...</th>\n",
       "      <td>...</td>\n",
       "      <td>...</td>\n",
       "      <td>...</td>\n",
       "    </tr>\n",
       "    <tr>\n",
       "      <th>490</th>\n",
       "      <td>6.0</td>\n",
       "      <td>2</td>\n",
       "      <td>Cheap</td>\n",
       "    </tr>\n",
       "    <tr>\n",
       "      <th>491</th>\n",
       "      <td>6.0</td>\n",
       "      <td>17</td>\n",
       "      <td>Cheap</td>\n",
       "    </tr>\n",
       "    <tr>\n",
       "      <th>494</th>\n",
       "      <td>5.7</td>\n",
       "      <td>3</td>\n",
       "      <td>Cheap</td>\n",
       "    </tr>\n",
       "    <tr>\n",
       "      <th>496</th>\n",
       "      <td>6.0</td>\n",
       "      <td>17</td>\n",
       "      <td>Cheap</td>\n",
       "    </tr>\n",
       "    <tr>\n",
       "      <th>500</th>\n",
       "      <td>5.7</td>\n",
       "      <td>32</td>\n",
       "      <td>Cheap</td>\n",
       "    </tr>\n",
       "  </tbody>\n",
       "</table>\n",
       "<p>247 rows × 3 columns</p>\n",
       "</div>"
      ],
      "text/plain": [
       "     Ratings  Tips     Price\n",
       "0        7.1    13  Moderate\n",
       "17       8.6     5     Cheap\n",
       "18       7.5     2     Cheap\n",
       "19       7.3     8     Cheap\n",
       "20       7.6     3     Cheap\n",
       "..       ...   ...       ...\n",
       "490      6.0     2     Cheap\n",
       "491      6.0    17     Cheap\n",
       "494      5.7     3     Cheap\n",
       "496      6.0    17     Cheap\n",
       "500      5.7    32     Cheap\n",
       "\n",
       "[247 rows x 3 columns]"
      ]
     },
     "execution_count": 24,
     "metadata": {},
     "output_type": "execute_result"
    }
   ],
   "source": [
    "selected_venues = total_venues[(total_venues['Ratings'] != 0) & (total_venues['Price'] != \"Not listed\") & (total_venues['Tips'] != 0.0)]\n",
    "selected_venues"
   ]
  },
  {
   "cell_type": "markdown",
   "metadata": {},
   "source": [
    "**Sort venues by ratings**"
   ]
  },
  {
   "cell_type": "code",
   "execution_count": 26,
   "metadata": {},
   "outputs": [
    {
     "data": {
      "text/html": [
       "<div>\n",
       "<style scoped>\n",
       "    .dataframe tbody tr th:only-of-type {\n",
       "        vertical-align: middle;\n",
       "    }\n",
       "\n",
       "    .dataframe tbody tr th {\n",
       "        vertical-align: top;\n",
       "    }\n",
       "\n",
       "    .dataframe thead th {\n",
       "        text-align: right;\n",
       "    }\n",
       "</style>\n",
       "<table border=\"1\" class=\"dataframe\">\n",
       "  <thead>\n",
       "    <tr style=\"text-align: right;\">\n",
       "      <th></th>\n",
       "      <th>Ratings</th>\n",
       "      <th>Tips</th>\n",
       "      <th>Price</th>\n",
       "    </tr>\n",
       "  </thead>\n",
       "  <tbody>\n",
       "    <tr>\n",
       "      <th>420</th>\n",
       "      <td>8.7</td>\n",
       "      <td>17</td>\n",
       "      <td>Cheap</td>\n",
       "    </tr>\n",
       "    <tr>\n",
       "      <th>17</th>\n",
       "      <td>8.6</td>\n",
       "      <td>5</td>\n",
       "      <td>Cheap</td>\n",
       "    </tr>\n",
       "    <tr>\n",
       "      <th>178</th>\n",
       "      <td>8.6</td>\n",
       "      <td>5</td>\n",
       "      <td>Cheap</td>\n",
       "    </tr>\n",
       "    <tr>\n",
       "      <th>125</th>\n",
       "      <td>8.6</td>\n",
       "      <td>5</td>\n",
       "      <td>Cheap</td>\n",
       "    </tr>\n",
       "    <tr>\n",
       "      <th>92</th>\n",
       "      <td>8.6</td>\n",
       "      <td>5</td>\n",
       "      <td>Cheap</td>\n",
       "    </tr>\n",
       "  </tbody>\n",
       "</table>\n",
       "</div>"
      ],
      "text/plain": [
       "     Ratings  Tips  Price\n",
       "420      8.7    17  Cheap\n",
       "17       8.6     5  Cheap\n",
       "178      8.6     5  Cheap\n",
       "125      8.6     5  Cheap\n",
       "92       8.6     5  Cheap"
      ]
     },
     "execution_count": 26,
     "metadata": {},
     "output_type": "execute_result"
    }
   ],
   "source": [
    "selected_venues = selected_venues.sort_values(by=\"Ratings\",ascending=False)\n",
    "selected_venues.head()"
   ]
  },
  {
   "cell_type": "code",
   "execution_count": 27,
   "metadata": {},
   "outputs": [
    {
     "data": {
      "text/html": [
       "<div>\n",
       "<style scoped>\n",
       "    .dataframe tbody tr th:only-of-type {\n",
       "        vertical-align: middle;\n",
       "    }\n",
       "\n",
       "    .dataframe tbody tr th {\n",
       "        vertical-align: top;\n",
       "    }\n",
       "\n",
       "    .dataframe thead th {\n",
       "        text-align: right;\n",
       "    }\n",
       "</style>\n",
       "<table border=\"1\" class=\"dataframe\">\n",
       "  <thead>\n",
       "    <tr style=\"text-align: right;\">\n",
       "      <th></th>\n",
       "      <th>Ratings</th>\n",
       "      <th>Tips</th>\n",
       "      <th>Price</th>\n",
       "    </tr>\n",
       "  </thead>\n",
       "  <tbody>\n",
       "    <tr>\n",
       "      <th>0</th>\n",
       "      <td>8.7</td>\n",
       "      <td>17</td>\n",
       "      <td>Cheap</td>\n",
       "    </tr>\n",
       "    <tr>\n",
       "      <th>1</th>\n",
       "      <td>8.6</td>\n",
       "      <td>5</td>\n",
       "      <td>Cheap</td>\n",
       "    </tr>\n",
       "    <tr>\n",
       "      <th>2</th>\n",
       "      <td>8.6</td>\n",
       "      <td>5</td>\n",
       "      <td>Cheap</td>\n",
       "    </tr>\n",
       "    <tr>\n",
       "      <th>3</th>\n",
       "      <td>8.6</td>\n",
       "      <td>5</td>\n",
       "      <td>Cheap</td>\n",
       "    </tr>\n",
       "    <tr>\n",
       "      <th>4</th>\n",
       "      <td>8.6</td>\n",
       "      <td>5</td>\n",
       "      <td>Cheap</td>\n",
       "    </tr>\n",
       "    <tr>\n",
       "      <th>...</th>\n",
       "      <td>...</td>\n",
       "      <td>...</td>\n",
       "      <td>...</td>\n",
       "    </tr>\n",
       "    <tr>\n",
       "      <th>242</th>\n",
       "      <td>5.7</td>\n",
       "      <td>3</td>\n",
       "      <td>Cheap</td>\n",
       "    </tr>\n",
       "    <tr>\n",
       "      <th>243</th>\n",
       "      <td>5.7</td>\n",
       "      <td>6</td>\n",
       "      <td>Moderate</td>\n",
       "    </tr>\n",
       "    <tr>\n",
       "      <th>244</th>\n",
       "      <td>5.6</td>\n",
       "      <td>1</td>\n",
       "      <td>Cheap</td>\n",
       "    </tr>\n",
       "    <tr>\n",
       "      <th>245</th>\n",
       "      <td>5.6</td>\n",
       "      <td>7</td>\n",
       "      <td>Moderate</td>\n",
       "    </tr>\n",
       "    <tr>\n",
       "      <th>246</th>\n",
       "      <td>5.6</td>\n",
       "      <td>1</td>\n",
       "      <td>Cheap</td>\n",
       "    </tr>\n",
       "  </tbody>\n",
       "</table>\n",
       "<p>247 rows × 3 columns</p>\n",
       "</div>"
      ],
      "text/plain": [
       "     Ratings  Tips     Price\n",
       "0        8.7    17     Cheap\n",
       "1        8.6     5     Cheap\n",
       "2        8.6     5     Cheap\n",
       "3        8.6     5     Cheap\n",
       "4        8.6     5     Cheap\n",
       "..       ...   ...       ...\n",
       "242      5.7     3     Cheap\n",
       "243      5.7     6  Moderate\n",
       "244      5.6     1     Cheap\n",
       "245      5.6     7  Moderate\n",
       "246      5.6     1     Cheap\n",
       "\n",
       "[247 rows x 3 columns]"
      ]
     },
     "execution_count": 27,
     "metadata": {},
     "output_type": "execute_result"
    }
   ],
   "source": [
    "selected_venues.reset_index(drop=True,inplace=True)\n",
    "selected_venues"
   ]
  },
  {
   "cell_type": "markdown",
   "metadata": {},
   "source": [
    "**Now merged the Venues and Neighborhood Dataframe**"
   ]
  },
  {
   "cell_type": "code",
   "execution_count": 28,
   "metadata": {},
   "outputs": [
    {
     "data": {
      "text/html": [
       "<div>\n",
       "<style scoped>\n",
       "    .dataframe tbody tr th:only-of-type {\n",
       "        vertical-align: middle;\n",
       "    }\n",
       "\n",
       "    .dataframe tbody tr th {\n",
       "        vertical-align: top;\n",
       "    }\n",
       "\n",
       "    .dataframe thead th {\n",
       "        text-align: right;\n",
       "    }\n",
       "</style>\n",
       "<table border=\"1\" class=\"dataframe\">\n",
       "  <thead>\n",
       "    <tr style=\"text-align: right;\">\n",
       "      <th></th>\n",
       "      <th>Neighborhood</th>\n",
       "      <th>Neighborhood Latitude</th>\n",
       "      <th>Neighborhood Longitude</th>\n",
       "      <th>Venue</th>\n",
       "      <th>Venue Latitude</th>\n",
       "      <th>Venue Longitude</th>\n",
       "      <th>Venue Category</th>\n",
       "      <th>Ratings</th>\n",
       "      <th>Tips</th>\n",
       "      <th>Price</th>\n",
       "    </tr>\n",
       "  </thead>\n",
       "  <tbody>\n",
       "    <tr>\n",
       "      <th>0</th>\n",
       "      <td>Cattle Colony</td>\n",
       "      <td>24.879311</td>\n",
       "      <td>67.198723</td>\n",
       "      <td>Anwar Baloch</td>\n",
       "      <td>24.869620</td>\n",
       "      <td>67.200499</td>\n",
       "      <td>BBQ Joint</td>\n",
       "      <td>8.7</td>\n",
       "      <td>17.0</td>\n",
       "      <td>Cheap</td>\n",
       "    </tr>\n",
       "    <tr>\n",
       "      <th>1</th>\n",
       "      <td>Cattle Colony</td>\n",
       "      <td>24.879311</td>\n",
       "      <td>67.198723</td>\n",
       "      <td>The Broast Restaurant</td>\n",
       "      <td>24.884536</td>\n",
       "      <td>67.182993</td>\n",
       "      <td>Fast Food Restaurant</td>\n",
       "      <td>8.6</td>\n",
       "      <td>5.0</td>\n",
       "      <td>Cheap</td>\n",
       "    </tr>\n",
       "    <tr>\n",
       "      <th>2</th>\n",
       "      <td>Cattle Colony</td>\n",
       "      <td>24.879311</td>\n",
       "      <td>67.198723</td>\n",
       "      <td>Student Biryani</td>\n",
       "      <td>24.884636</td>\n",
       "      <td>67.182260</td>\n",
       "      <td>Restaurant</td>\n",
       "      <td>8.6</td>\n",
       "      <td>5.0</td>\n",
       "      <td>Cheap</td>\n",
       "    </tr>\n",
       "    <tr>\n",
       "      <th>3</th>\n",
       "      <td>Cattle Colony</td>\n",
       "      <td>24.879311</td>\n",
       "      <td>67.198723</td>\n",
       "      <td>Taj Chaiye Ka Hotel</td>\n",
       "      <td>24.887062</td>\n",
       "      <td>67.183052</td>\n",
       "      <td>Tea Room</td>\n",
       "      <td>8.6</td>\n",
       "      <td>5.0</td>\n",
       "      <td>Cheap</td>\n",
       "    </tr>\n",
       "    <tr>\n",
       "      <th>4</th>\n",
       "      <td>Cattle Colony</td>\n",
       "      <td>24.879311</td>\n",
       "      <td>67.198723</td>\n",
       "      <td>Liaquat Market</td>\n",
       "      <td>24.887072</td>\n",
       "      <td>67.183061</td>\n",
       "      <td>Market</td>\n",
       "      <td>8.6</td>\n",
       "      <td>5.0</td>\n",
       "      <td>Cheap</td>\n",
       "    </tr>\n",
       "  </tbody>\n",
       "</table>\n",
       "</div>"
      ],
      "text/plain": [
       "    Neighborhood  Neighborhood Latitude  Neighborhood Longitude  \\\n",
       "0  Cattle Colony              24.879311               67.198723   \n",
       "1  Cattle Colony              24.879311               67.198723   \n",
       "2  Cattle Colony              24.879311               67.198723   \n",
       "3  Cattle Colony              24.879311               67.198723   \n",
       "4  Cattle Colony              24.879311               67.198723   \n",
       "\n",
       "                   Venue  Venue Latitude  Venue Longitude  \\\n",
       "0           Anwar Baloch       24.869620        67.200499   \n",
       "1  The Broast Restaurant       24.884536        67.182993   \n",
       "2        Student Biryani       24.884636        67.182260   \n",
       "3    Taj Chaiye Ka Hotel       24.887062        67.183052   \n",
       "4         Liaquat Market       24.887072        67.183061   \n",
       "\n",
       "         Venue Category  Ratings  Tips  Price  \n",
       "0             BBQ Joint      8.7  17.0  Cheap  \n",
       "1  Fast Food Restaurant      8.6   5.0  Cheap  \n",
       "2            Restaurant      8.6   5.0  Cheap  \n",
       "3              Tea Room      8.6   5.0  Cheap  \n",
       "4                Market      8.6   5.0  Cheap  "
      ]
     },
     "execution_count": 28,
     "metadata": {},
     "output_type": "execute_result"
    }
   ],
   "source": [
    "khi_merged = khi_venues.join(selected_venues)\n",
    "khi_merged.drop('Venue ID',axis=1,inplace=True)\n",
    "khi_merged = khi_merged[0:247]\n",
    "khi_merged.head()"
   ]
  },
  {
   "cell_type": "markdown",
   "metadata": {},
   "source": [
    "## Methodology <a name=\"meth\"></a>"
   ]
  },
  {
   "cell_type": "markdown",
   "metadata": {},
   "source": [
    "The methodology in this project consists of two parts:\n",
    "\n",
    "As a first step, we retrieved the data from Foursquare APIs. We extract venue information from the each neighborhood, upto a distance of 2 Km. The latitude and longitude values fetch through web scraping.\n",
    "\n",
    "Next, we'll analyse the data that we created based on the ratings and price of each venue. We'll identify places where many venues are located so that any visitor can go to one place and enjoy the option to choose amongst many venue options. \n",
    "\n",
    "We'll also explore areas that are high rated and those that are low rated while also plotting the map of high and low priced venues. Lastly, we'll cluster the venues based on the available information of each venue. This will allow us to clearly identify which venues can be recommended and with what characteristics.\n",
    "\n",
    "Finally, we'll discuss and conclude which venues to be explored based on visitor requirement of rating and cost."
   ]
  },
  {
   "cell_type": "markdown",
   "metadata": {},
   "source": [
    "## Analysis <a name=\"ana\"></a>"
   ]
  },
  {
   "cell_type": "markdown",
   "metadata": {},
   "source": [
    "The complete dataset is now in its final form.\n",
    "\n",
    "We will now analyze venues based on their rating. The rating of a venue are based on user reviews and belongs to a range from 1 to 10. We'll also analyse the venues based on their range."
   ]
  },
  {
   "cell_type": "markdown",
   "metadata": {},
   "source": [
    "We have different types of venues in each neighborhood. We will take a look at the venues and check which are the majority venue neighborhood in the list."
   ]
  },
  {
   "cell_type": "markdown",
   "metadata": {},
   "source": [
    "### Most Venues"
   ]
  },
  {
   "cell_type": "code",
   "execution_count": 29,
   "metadata": {},
   "outputs": [
    {
     "data": {
      "text/html": [
       "<div>\n",
       "<style scoped>\n",
       "    .dataframe tbody tr th:only-of-type {\n",
       "        vertical-align: middle;\n",
       "    }\n",
       "\n",
       "    .dataframe tbody tr th {\n",
       "        vertical-align: top;\n",
       "    }\n",
       "\n",
       "    .dataframe thead th {\n",
       "        text-align: right;\n",
       "    }\n",
       "</style>\n",
       "<table border=\"1\" class=\"dataframe\">\n",
       "  <thead>\n",
       "    <tr style=\"text-align: right;\">\n",
       "      <th></th>\n",
       "      <th>Venue</th>\n",
       "    </tr>\n",
       "    <tr>\n",
       "      <th>Neighborhood</th>\n",
       "      <th></th>\n",
       "    </tr>\n",
       "  </thead>\n",
       "  <tbody>\n",
       "    <tr>\n",
       "      <th>Clifton</th>\n",
       "      <td>100</td>\n",
       "    </tr>\n",
       "    <tr>\n",
       "      <th>Mahmudabad</th>\n",
       "      <td>100</td>\n",
       "    </tr>\n",
       "    <tr>\n",
       "      <th>Bath Island</th>\n",
       "      <td>100</td>\n",
       "    </tr>\n",
       "    <tr>\n",
       "      <th>Shah Rasool Colony</th>\n",
       "      <td>100</td>\n",
       "    </tr>\n",
       "    <tr>\n",
       "      <th>Civil Lines</th>\n",
       "      <td>91</td>\n",
       "    </tr>\n",
       "  </tbody>\n",
       "</table>\n",
       "</div>"
      ],
      "text/plain": [
       "                    Venue\n",
       "Neighborhood             \n",
       "Clifton               100\n",
       "Mahmudabad            100\n",
       "Bath Island           100\n",
       "Shah Rasool Colony    100\n",
       "Civil Lines            91"
      ]
     },
     "execution_count": 29,
     "metadata": {},
     "output_type": "execute_result"
    }
   ],
   "source": [
    "khi_venues.groupby('Neighborhood')['Venue'].count().sort_values(ascending=False).to_frame().head()"
   ]
  },
  {
   "cell_type": "markdown",
   "metadata": {},
   "source": [
    "From the above result we can clearly see that **Clifton, Mahmudabad and Bath Island** has most values in the list. So, if you are a tourist, you may find many places to enjoy there"
   ]
  },
  {
   "cell_type": "markdown",
   "metadata": {},
   "source": [
    "### Categories"
   ]
  },
  {
   "cell_type": "markdown",
   "metadata": {},
   "source": [
    "Now we will take a look at the venues and check how many unique venue categories are and which are the majority venue categories in the list."
   ]
  },
  {
   "cell_type": "code",
   "execution_count": 30,
   "metadata": {},
   "outputs": [
    {
     "name": "stdout",
     "output_type": "stream",
     "text": [
      "There are 150 uniques venue categories visitor can find in Karachi\n"
     ]
    }
   ],
   "source": [
    "print('There are {} uniques venue categories visitor can find in Karachi'.format(len(khi_venues['Venue Category'].unique())))"
   ]
  },
  {
   "cell_type": "markdown",
   "metadata": {},
   "source": [
    "We have various types of venues in the final dataset. We will take a look at the venues and check which are the majority venue categories in the list."
   ]
  },
  {
   "cell_type": "code",
   "execution_count": 31,
   "metadata": {},
   "outputs": [
    {
     "data": {
      "text/html": [
       "<div>\n",
       "<style scoped>\n",
       "    .dataframe tbody tr th:only-of-type {\n",
       "        vertical-align: middle;\n",
       "    }\n",
       "\n",
       "    .dataframe tbody tr th {\n",
       "        vertical-align: top;\n",
       "    }\n",
       "\n",
       "    .dataframe thead th {\n",
       "        text-align: right;\n",
       "    }\n",
       "</style>\n",
       "<table border=\"1\" class=\"dataframe\">\n",
       "  <thead>\n",
       "    <tr style=\"text-align: right;\">\n",
       "      <th></th>\n",
       "      <th>Venue Category</th>\n",
       "    </tr>\n",
       "  </thead>\n",
       "  <tbody>\n",
       "    <tr>\n",
       "      <th>Fast Food Restaurant</th>\n",
       "      <td>289</td>\n",
       "    </tr>\n",
       "    <tr>\n",
       "      <th>Market</th>\n",
       "      <td>148</td>\n",
       "    </tr>\n",
       "    <tr>\n",
       "      <th>Pizza Place</th>\n",
       "      <td>136</td>\n",
       "    </tr>\n",
       "    <tr>\n",
       "      <th>BBQ Joint</th>\n",
       "      <td>132</td>\n",
       "    </tr>\n",
       "    <tr>\n",
       "      <th>Bakery</th>\n",
       "      <td>130</td>\n",
       "    </tr>\n",
       "  </tbody>\n",
       "</table>\n",
       "</div>"
      ],
      "text/plain": [
       "                      Venue Category\n",
       "Fast Food Restaurant             289\n",
       "Market                           148\n",
       "Pizza Place                      136\n",
       "BBQ Joint                        132\n",
       "Bakery                           130"
      ]
     },
     "execution_count": 31,
     "metadata": {},
     "output_type": "execute_result"
    }
   ],
   "source": [
    "khi_venues['Venue Category'].value_counts().to_frame().head(5)"
   ]
  },
  {
   "cell_type": "markdown",
   "metadata": {},
   "source": [
    "**Visulaize**"
   ]
  },
  {
   "cell_type": "code",
   "execution_count": 32,
   "metadata": {},
   "outputs": [
    {
     "data": {
      "text/plain": [
       "Text(0.5, 1.0, 'Count each venue category')"
      ]
     },
     "execution_count": 32,
     "metadata": {},
     "output_type": "execute_result"
    },
    {
     "data": {
      "image/png": "[encoded data removed]",
      "text/plain": [
       "<Figure size 1440x720 with 1 Axes>"
      ]
     },
     "metadata": {
      "needs_background": "light"
     },
     "output_type": "display_data"
    }
   ],
   "source": [
    "cat_dis = khi_venues['Venue Category'].value_counts().head(20) \n",
    "plt.figure(figsize = (20,10))\n",
    "colors = cm.rainbow(np.linspace(0, 1, len(cat_dis.index)))\n",
    "plt.xticks(rotation = 90)\n",
    "plt.bar(cat_dis.index,cat_dis.values,color = colors,width=0.7)\n",
    "plt.xlabel(\"Venue categories\", fontsize = 16)\n",
    "plt.ylabel(\"Count\", fontsize = 16)\n",
    "plt.title(\"Count each venue category\", fontsize = 16)"
   ]
  },
  {
   "cell_type": "markdown",
   "metadata": {},
   "source": [
    "We can conclude that Fast Food Restaurant category venues are here the most"
   ]
  },
  {
   "cell_type": "markdown",
   "metadata": {},
   "source": [
    "### Ratings"
   ]
  },
  {
   "cell_type": "markdown",
   "metadata": {},
   "source": [
    "Rating of a venue is an important factor on which a visitor decides whether it is worth it to visit the place.\n",
    "We'll first identify the various rating values and plot them as a bar plot with their counts to see the most common rating."
   ]
  },
  {
   "cell_type": "code",
   "execution_count": 33,
   "metadata": {},
   "outputs": [
    {
     "data": {
      "text/html": [
       "<div>\n",
       "<style scoped>\n",
       "    .dataframe tbody tr th:only-of-type {\n",
       "        vertical-align: middle;\n",
       "    }\n",
       "\n",
       "    .dataframe tbody tr th {\n",
       "        vertical-align: top;\n",
       "    }\n",
       "\n",
       "    .dataframe thead th {\n",
       "        text-align: right;\n",
       "    }\n",
       "</style>\n",
       "<table border=\"1\" class=\"dataframe\">\n",
       "  <thead>\n",
       "    <tr style=\"text-align: right;\">\n",
       "      <th></th>\n",
       "      <th>Venue</th>\n",
       "      <th>Venue Latitude</th>\n",
       "      <th>Venue Longitude</th>\n",
       "      <th>Venue Category</th>\n",
       "      <th>Ratings</th>\n",
       "      <th>Tips</th>\n",
       "      <th>Price</th>\n",
       "    </tr>\n",
       "  </thead>\n",
       "  <tbody>\n",
       "    <tr>\n",
       "      <th>0</th>\n",
       "      <td>Anwar Baloch</td>\n",
       "      <td>24.869620</td>\n",
       "      <td>67.200499</td>\n",
       "      <td>BBQ Joint</td>\n",
       "      <td>8.7</td>\n",
       "      <td>17.0</td>\n",
       "      <td>Cheap</td>\n",
       "    </tr>\n",
       "    <tr>\n",
       "      <th>1</th>\n",
       "      <td>The Broast Restaurant</td>\n",
       "      <td>24.884536</td>\n",
       "      <td>67.182993</td>\n",
       "      <td>Fast Food Restaurant</td>\n",
       "      <td>8.6</td>\n",
       "      <td>5.0</td>\n",
       "      <td>Cheap</td>\n",
       "    </tr>\n",
       "    <tr>\n",
       "      <th>2</th>\n",
       "      <td>Student Biryani</td>\n",
       "      <td>24.884636</td>\n",
       "      <td>67.182260</td>\n",
       "      <td>Restaurant</td>\n",
       "      <td>8.6</td>\n",
       "      <td>5.0</td>\n",
       "      <td>Cheap</td>\n",
       "    </tr>\n",
       "    <tr>\n",
       "      <th>3</th>\n",
       "      <td>Taj Chaiye Ka Hotel</td>\n",
       "      <td>24.887062</td>\n",
       "      <td>67.183052</td>\n",
       "      <td>Tea Room</td>\n",
       "      <td>8.6</td>\n",
       "      <td>5.0</td>\n",
       "      <td>Cheap</td>\n",
       "    </tr>\n",
       "    <tr>\n",
       "      <th>4</th>\n",
       "      <td>Liaquat Market</td>\n",
       "      <td>24.887072</td>\n",
       "      <td>67.183061</td>\n",
       "      <td>Market</td>\n",
       "      <td>8.6</td>\n",
       "      <td>5.0</td>\n",
       "      <td>Cheap</td>\n",
       "    </tr>\n",
       "  </tbody>\n",
       "</table>\n",
       "</div>"
      ],
      "text/plain": [
       "                   Venue  Venue Latitude  Venue Longitude  \\\n",
       "0           Anwar Baloch       24.869620        67.200499   \n",
       "1  The Broast Restaurant       24.884536        67.182993   \n",
       "2        Student Biryani       24.884636        67.182260   \n",
       "3    Taj Chaiye Ka Hotel       24.887062        67.183052   \n",
       "4         Liaquat Market       24.887072        67.183061   \n",
       "\n",
       "         Venue Category  Ratings  Tips  Price  \n",
       "0             BBQ Joint      8.7  17.0  Cheap  \n",
       "1  Fast Food Restaurant      8.6   5.0  Cheap  \n",
       "2            Restaurant      8.6   5.0  Cheap  \n",
       "3              Tea Room      8.6   5.0  Cheap  \n",
       "4                Market      8.6   5.0  Cheap  "
      ]
     },
     "execution_count": 33,
     "metadata": {},
     "output_type": "execute_result"
    }
   ],
   "source": [
    "khi_merged[['Venue','Venue Latitude','Venue Longitude','Venue Category','Ratings','Tips','Price']].head()"
   ]
  },
  {
   "cell_type": "markdown",
   "metadata": {},
   "source": [
    "We can see that Anwar Baloch has highest rating so this might be the place you have to visit"
   ]
  },
  {
   "cell_type": "markdown",
   "metadata": {},
   "source": [
    "We can also analyze which neighborhood has highest rating restaurant"
   ]
  },
  {
   "cell_type": "code",
   "execution_count": 34,
   "metadata": {},
   "outputs": [
    {
     "data": {
      "text/html": [
       "<div>\n",
       "<style scoped>\n",
       "    .dataframe tbody tr th:only-of-type {\n",
       "        vertical-align: middle;\n",
       "    }\n",
       "\n",
       "    .dataframe tbody tr th {\n",
       "        vertical-align: top;\n",
       "    }\n",
       "\n",
       "    .dataframe thead th {\n",
       "        text-align: right;\n",
       "    }\n",
       "</style>\n",
       "<table border=\"1\" class=\"dataframe\">\n",
       "  <thead>\n",
       "    <tr style=\"text-align: right;\">\n",
       "      <th></th>\n",
       "      <th>Ratings</th>\n",
       "    </tr>\n",
       "    <tr>\n",
       "      <th>Neighborhood</th>\n",
       "      <th></th>\n",
       "    </tr>\n",
       "  </thead>\n",
       "  <tbody>\n",
       "    <tr>\n",
       "      <th>Cattle Colony</th>\n",
       "      <td>8.477778</td>\n",
       "    </tr>\n",
       "    <tr>\n",
       "      <th>Green Park City</th>\n",
       "      <td>8.200000</td>\n",
       "    </tr>\n",
       "    <tr>\n",
       "      <th>Gulshan-e-Hadeed</th>\n",
       "      <td>8.200000</td>\n",
       "    </tr>\n",
       "    <tr>\n",
       "      <th>Landhi Colony</th>\n",
       "      <td>7.900000</td>\n",
       "    </tr>\n",
       "    <tr>\n",
       "      <th>Ibrahim Hyderi</th>\n",
       "      <td>7.900000</td>\n",
       "    </tr>\n",
       "  </tbody>\n",
       "</table>\n",
       "</div>"
      ],
      "text/plain": [
       "                   Ratings\n",
       "Neighborhood              \n",
       "Cattle Colony     8.477778\n",
       "Green Park City   8.200000\n",
       "Gulshan-e-Hadeed  8.200000\n",
       "Landhi Colony     7.900000\n",
       "Ibrahim Hyderi    7.900000"
      ]
     },
     "execution_count": 34,
     "metadata": {},
     "output_type": "execute_result"
    }
   ],
   "source": [
    "khi_merged.groupby('Neighborhood')['Ratings'].mean().sort_values(ascending=False).to_frame()[0:5]"
   ]
  },
  {
   "cell_type": "markdown",
   "metadata": {},
   "source": [
    "Here we can see that Cattle Colony has the highest rating restaurant "
   ]
  },
  {
   "cell_type": "markdown",
   "metadata": {},
   "source": [
    "### Price"
   ]
  },
  {
   "cell_type": "code",
   "execution_count": 35,
   "metadata": {},
   "outputs": [
    {
     "data": {
      "text/plain": [
       "array(['Cheap', 'Moderate', 'Very Expensive'], dtype=object)"
      ]
     },
     "execution_count": 35,
     "metadata": {},
     "output_type": "execute_result"
    }
   ],
   "source": [
    "khi_merged[\"Price\"].unique()"
   ]
  },
  {
   "cell_type": "markdown",
   "metadata": {},
   "source": [
    "We will now take a look the venues based on the price ranges. We have three price features for our venues, Cheap, Moderate and Very Expensive according to Foursquare API"
   ]
  },
  {
   "cell_type": "markdown",
   "metadata": {},
   "source": [
    "Now we map the cheap restaurant in map"
   ]
  },
  {
   "cell_type": "markdown",
   "metadata": {},
   "source": [
    "Users might also be interested in going to a place that fits in their budget. We will use the **Price** column to plot the venues on a map. We'll represent the venues with lower price in green and move towards red as the price increases."
   ]
  },
  {
   "cell_type": "code",
   "execution_count": 36,
   "metadata": {
    "scrolled": true
   },
   "outputs": [
    {
     "data": {
      "text/html": [
       "<div style=\"width:100%;\"><div style=\"position:relative;width:100%;height:0;padding-bottom:60%;\"><iframe src=\"about:blank\" style=\"position:absolute;width:100%;height:100%;left:0;top:0;border:none !important;\" data-html=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 onload=\"this.contentDocument.open();this.contentDocument.write(atob(this.getAttribute('data-html')));this.contentDocument.close();\" allowfullscreen webkitallowfullscreen mozallowfullscreen></iframe></div></div>"
      ],
      "text/plain": [
       "<folium.folium.Map at 0x2a026ac8ba8>"
      ]
     },
     "execution_count": 36,
     "metadata": {},
     "output_type": "execute_result"
    }
   ],
   "source": [
    "khi_merged_dum = khi_merged[0:40] #visualize only top40 venues from the list\n",
    "color_map = {'Cheap': 'green', 'Moderate': 'orange', 'Very Expensive': 'red'}\n",
    "for name, lat, lng, price in zip(khi_merged_dum[\"Venue\"],khi_merged_dum[\"Venue Latitude\"],khi_merged_dum[\"Venue Longitude\"],khi_merged_dum[\"Price\"]):\n",
    "    label = '{}'.format(name)\n",
    "    label = folium.Popup(label,parse_html=True)\n",
    "    folium.Marker(\n",
    "        [lat,lng],\n",
    "        icon = folium.Icon(color = color_map[price]),\n",
    "        popup = label\n",
    "    ).add_to(map_khi)\n",
    "\n",
    "map_khi"
   ]
  },
  {
   "cell_type": "markdown",
   "metadata": {},
   "source": [
    "We can verify our analysis through take a look at our dataset"
   ]
  },
  {
   "cell_type": "code",
   "execution_count": 37,
   "metadata": {},
   "outputs": [
    {
     "data": {
      "text/html": [
       "<div>\n",
       "<style scoped>\n",
       "    .dataframe tbody tr th:only-of-type {\n",
       "        vertical-align: middle;\n",
       "    }\n",
       "\n",
       "    .dataframe tbody tr th {\n",
       "        vertical-align: top;\n",
       "    }\n",
       "\n",
       "    .dataframe thead th {\n",
       "        text-align: right;\n",
       "    }\n",
       "</style>\n",
       "<table border=\"1\" class=\"dataframe\">\n",
       "  <thead>\n",
       "    <tr style=\"text-align: right;\">\n",
       "      <th></th>\n",
       "      <th></th>\n",
       "      <th>Price</th>\n",
       "    </tr>\n",
       "    <tr>\n",
       "      <th>Neighborhood</th>\n",
       "      <th>Price</th>\n",
       "      <th></th>\n",
       "    </tr>\n",
       "  </thead>\n",
       "  <tbody>\n",
       "    <tr>\n",
       "      <th>Mujahid Colony</th>\n",
       "      <th>Cheap</th>\n",
       "      <td>29</td>\n",
       "    </tr>\n",
       "    <tr>\n",
       "      <th>Gulshan-e-Iqbal I</th>\n",
       "      <th>Cheap</th>\n",
       "      <td>29</td>\n",
       "    </tr>\n",
       "    <tr>\n",
       "      <th>Shanti Nagar</th>\n",
       "      <th>Cheap</th>\n",
       "      <td>27</td>\n",
       "    </tr>\n",
       "    <tr>\n",
       "      <th>Gulshan-e-Iqbal II</th>\n",
       "      <th>Cheap</th>\n",
       "      <td>18</td>\n",
       "    </tr>\n",
       "    <tr>\n",
       "      <th>Gulistan-e-Johar</th>\n",
       "      <th>Cheap</th>\n",
       "      <td>17</td>\n",
       "    </tr>\n",
       "  </tbody>\n",
       "</table>\n",
       "</div>"
      ],
      "text/plain": [
       "                          Price\n",
       "Neighborhood       Price       \n",
       "Mujahid Colony     Cheap     29\n",
       "Gulshan-e-Iqbal I  Cheap     29\n",
       "Shanti Nagar       Cheap     27\n",
       "Gulshan-e-Iqbal II Cheap     18\n",
       "Gulistan-e-Johar   Cheap     17"
      ]
     },
     "execution_count": 37,
     "metadata": {},
     "output_type": "execute_result"
    }
   ],
   "source": [
    "khi_merged[khi_merged[\"Price\"] == \"Cheap\"].groupby('Neighborhood')[\"Price\"].value_counts().sort_values(ascending=False).to_frame().head(5)"
   ]
  },
  {
   "cell_type": "markdown",
   "metadata": {},
   "source": [
    "We can see that most of the cheap restaurants are found in Gulshan-e-Iqbal and Mujahid Colony"
   ]
  },
  {
   "cell_type": "markdown",
   "metadata": {},
   "source": [
    "### Clustering"
   ]
  },
  {
   "cell_type": "markdown",
   "metadata": {},
   "source": [
    "We will now cluster all these venues based on their price range, location and more to identify similar venues and the relationship amongst them. We'll cluster the venues into two separate groups."
   ]
  },
  {
   "cell_type": "code",
   "execution_count": 43,
   "metadata": {},
   "outputs": [],
   "source": [
    "from sklearn.cluster import KMeans\n",
    "kcluster = 2\n",
    "\n",
    "khi_cluster = khi_merged[['Price',\"Ratings\",\"Tips\"]]"
   ]
  },
  {
   "cell_type": "code",
   "execution_count": 44,
   "metadata": {},
   "outputs": [
    {
     "data": {
      "text/html": [
       "<div>\n",
       "<style scoped>\n",
       "    .dataframe tbody tr th:only-of-type {\n",
       "        vertical-align: middle;\n",
       "    }\n",
       "\n",
       "    .dataframe tbody tr th {\n",
       "        vertical-align: top;\n",
       "    }\n",
       "\n",
       "    .dataframe thead th {\n",
       "        text-align: right;\n",
       "    }\n",
       "</style>\n",
       "<table border=\"1\" class=\"dataframe\">\n",
       "  <thead>\n",
       "    <tr style=\"text-align: right;\">\n",
       "      <th></th>\n",
       "      <th>Price</th>\n",
       "      <th>Ratings</th>\n",
       "      <th>Tips</th>\n",
       "    </tr>\n",
       "  </thead>\n",
       "  <tbody>\n",
       "    <tr>\n",
       "      <th>0</th>\n",
       "      <td>Cheap</td>\n",
       "      <td>8.7</td>\n",
       "      <td>17.0</td>\n",
       "    </tr>\n",
       "    <tr>\n",
       "      <th>1</th>\n",
       "      <td>Cheap</td>\n",
       "      <td>8.6</td>\n",
       "      <td>5.0</td>\n",
       "    </tr>\n",
       "    <tr>\n",
       "      <th>2</th>\n",
       "      <td>Cheap</td>\n",
       "      <td>8.6</td>\n",
       "      <td>5.0</td>\n",
       "    </tr>\n",
       "    <tr>\n",
       "      <th>3</th>\n",
       "      <td>Cheap</td>\n",
       "      <td>8.6</td>\n",
       "      <td>5.0</td>\n",
       "    </tr>\n",
       "    <tr>\n",
       "      <th>4</th>\n",
       "      <td>Cheap</td>\n",
       "      <td>8.6</td>\n",
       "      <td>5.0</td>\n",
       "    </tr>\n",
       "  </tbody>\n",
       "</table>\n",
       "</div>"
      ],
      "text/plain": [
       "   Price  Ratings  Tips\n",
       "0  Cheap      8.7  17.0\n",
       "1  Cheap      8.6   5.0\n",
       "2  Cheap      8.6   5.0\n",
       "3  Cheap      8.6   5.0\n",
       "4  Cheap      8.6   5.0"
      ]
     },
     "execution_count": 44,
     "metadata": {},
     "output_type": "execute_result"
    }
   ],
   "source": [
    "khi_cluster.head()"
   ]
  },
  {
   "cell_type": "markdown",
   "metadata": {},
   "source": [
    "To fit the model we have to convert categorical variable into numerical variable"
   ]
  },
  {
   "cell_type": "code",
   "execution_count": 45,
   "metadata": {},
   "outputs": [
    {
     "name": "stderr",
     "output_type": "stream",
     "text": [
      "c:\\users\\aitezaz akhtar\\appdata\\local\\programs\\python\\python37\\lib\\site-packages\\ipykernel_launcher.py:1: SettingWithCopyWarning: \n",
      "A value is trying to be set on a copy of a slice from a DataFrame.\n",
      "Try using .loc[row_indexer,col_indexer] = value instead\n",
      "\n",
      "See the caveats in the documentation: https://pandas.pydata.org/pandas-docs/stable/user_guide/indexing.html#returning-a-view-versus-a-copy\n",
      "  \"\"\"Entry point for launching an IPython kernel.\n"
     ]
    }
   ],
   "source": [
    "khi_cluster['Price'] = khi_cluster['Price'].replace(to_replace=[\"Cheap\",\"Moderate\",\"Very Expensive\"], value=[0,1,2])"
   ]
  },
  {
   "cell_type": "code",
   "execution_count": 46,
   "metadata": {},
   "outputs": [
    {
     "data": {
      "text/html": [
       "<div>\n",
       "<style scoped>\n",
       "    .dataframe tbody tr th:only-of-type {\n",
       "        vertical-align: middle;\n",
       "    }\n",
       "\n",
       "    .dataframe tbody tr th {\n",
       "        vertical-align: top;\n",
       "    }\n",
       "\n",
       "    .dataframe thead th {\n",
       "        text-align: right;\n",
       "    }\n",
       "</style>\n",
       "<table border=\"1\" class=\"dataframe\">\n",
       "  <thead>\n",
       "    <tr style=\"text-align: right;\">\n",
       "      <th></th>\n",
       "      <th>Price</th>\n",
       "      <th>Ratings</th>\n",
       "      <th>Tips</th>\n",
       "    </tr>\n",
       "  </thead>\n",
       "  <tbody>\n",
       "    <tr>\n",
       "      <th>0</th>\n",
       "      <td>0</td>\n",
       "      <td>8.7</td>\n",
       "      <td>17.0</td>\n",
       "    </tr>\n",
       "    <tr>\n",
       "      <th>1</th>\n",
       "      <td>0</td>\n",
       "      <td>8.6</td>\n",
       "      <td>5.0</td>\n",
       "    </tr>\n",
       "    <tr>\n",
       "      <th>2</th>\n",
       "      <td>0</td>\n",
       "      <td>8.6</td>\n",
       "      <td>5.0</td>\n",
       "    </tr>\n",
       "    <tr>\n",
       "      <th>3</th>\n",
       "      <td>0</td>\n",
       "      <td>8.6</td>\n",
       "      <td>5.0</td>\n",
       "    </tr>\n",
       "    <tr>\n",
       "      <th>4</th>\n",
       "      <td>0</td>\n",
       "      <td>8.6</td>\n",
       "      <td>5.0</td>\n",
       "    </tr>\n",
       "  </tbody>\n",
       "</table>\n",
       "</div>"
      ],
      "text/plain": [
       "   Price  Ratings  Tips\n",
       "0      0      8.7  17.0\n",
       "1      0      8.6   5.0\n",
       "2      0      8.6   5.0\n",
       "3      0      8.6   5.0\n",
       "4      0      8.6   5.0"
      ]
     },
     "execution_count": 46,
     "metadata": {},
     "output_type": "execute_result"
    }
   ],
   "source": [
    "khi_cluster.head()"
   ]
  },
  {
   "cell_type": "code",
   "execution_count": 47,
   "metadata": {},
   "outputs": [],
   "source": [
    "kmeans = KMeans(n_clusters=kcluster, random_state=0).fit(khi_cluster)"
   ]
  },
  {
   "cell_type": "code",
   "execution_count": 48,
   "metadata": {},
   "outputs": [
    {
     "data": {
      "text/plain": [
       "array([0, 0, 0, 0, 0, 0, 0, 0, 0, 0])"
      ]
     },
     "execution_count": 48,
     "metadata": {},
     "output_type": "execute_result"
    }
   ],
   "source": [
    "kmeans.labels_[0:10]"
   ]
  },
  {
   "cell_type": "markdown",
   "metadata": {},
   "source": [
    "**Add clustering labels**"
   ]
  },
  {
   "cell_type": "code",
   "execution_count": 49,
   "metadata": {},
   "outputs": [
    {
     "data": {
      "text/html": [
       "<div>\n",
       "<style scoped>\n",
       "    .dataframe tbody tr th:only-of-type {\n",
       "        vertical-align: middle;\n",
       "    }\n",
       "\n",
       "    .dataframe tbody tr th {\n",
       "        vertical-align: top;\n",
       "    }\n",
       "\n",
       "    .dataframe thead th {\n",
       "        text-align: right;\n",
       "    }\n",
       "</style>\n",
       "<table border=\"1\" class=\"dataframe\">\n",
       "  <thead>\n",
       "    <tr style=\"text-align: right;\">\n",
       "      <th></th>\n",
       "      <th>Cluster Labels</th>\n",
       "      <th>Neighborhood</th>\n",
       "      <th>Neighborhood Latitude</th>\n",
       "      <th>Neighborhood Longitude</th>\n",
       "      <th>Venue</th>\n",
       "      <th>Venue Latitude</th>\n",
       "      <th>Venue Longitude</th>\n",
       "      <th>Venue Category</th>\n",
       "      <th>Ratings</th>\n",
       "      <th>Tips</th>\n",
       "      <th>Price</th>\n",
       "    </tr>\n",
       "  </thead>\n",
       "  <tbody>\n",
       "    <tr>\n",
       "      <th>0</th>\n",
       "      <td>0</td>\n",
       "      <td>Cattle Colony</td>\n",
       "      <td>24.879311</td>\n",
       "      <td>67.198723</td>\n",
       "      <td>Anwar Baloch</td>\n",
       "      <td>24.869620</td>\n",
       "      <td>67.200499</td>\n",
       "      <td>BBQ Joint</td>\n",
       "      <td>8.7</td>\n",
       "      <td>17.0</td>\n",
       "      <td>Cheap</td>\n",
       "    </tr>\n",
       "    <tr>\n",
       "      <th>1</th>\n",
       "      <td>0</td>\n",
       "      <td>Cattle Colony</td>\n",
       "      <td>24.879311</td>\n",
       "      <td>67.198723</td>\n",
       "      <td>The Broast Restaurant</td>\n",
       "      <td>24.884536</td>\n",
       "      <td>67.182993</td>\n",
       "      <td>Fast Food Restaurant</td>\n",
       "      <td>8.6</td>\n",
       "      <td>5.0</td>\n",
       "      <td>Cheap</td>\n",
       "    </tr>\n",
       "    <tr>\n",
       "      <th>2</th>\n",
       "      <td>0</td>\n",
       "      <td>Cattle Colony</td>\n",
       "      <td>24.879311</td>\n",
       "      <td>67.198723</td>\n",
       "      <td>Student Biryani</td>\n",
       "      <td>24.884636</td>\n",
       "      <td>67.182260</td>\n",
       "      <td>Restaurant</td>\n",
       "      <td>8.6</td>\n",
       "      <td>5.0</td>\n",
       "      <td>Cheap</td>\n",
       "    </tr>\n",
       "    <tr>\n",
       "      <th>3</th>\n",
       "      <td>0</td>\n",
       "      <td>Cattle Colony</td>\n",
       "      <td>24.879311</td>\n",
       "      <td>67.198723</td>\n",
       "      <td>Taj Chaiye Ka Hotel</td>\n",
       "      <td>24.887062</td>\n",
       "      <td>67.183052</td>\n",
       "      <td>Tea Room</td>\n",
       "      <td>8.6</td>\n",
       "      <td>5.0</td>\n",
       "      <td>Cheap</td>\n",
       "    </tr>\n",
       "    <tr>\n",
       "      <th>4</th>\n",
       "      <td>0</td>\n",
       "      <td>Cattle Colony</td>\n",
       "      <td>24.879311</td>\n",
       "      <td>67.198723</td>\n",
       "      <td>Liaquat Market</td>\n",
       "      <td>24.887072</td>\n",
       "      <td>67.183061</td>\n",
       "      <td>Market</td>\n",
       "      <td>8.6</td>\n",
       "      <td>5.0</td>\n",
       "      <td>Cheap</td>\n",
       "    </tr>\n",
       "  </tbody>\n",
       "</table>\n",
       "</div>"
      ],
      "text/plain": [
       "   Cluster Labels   Neighborhood  Neighborhood Latitude  \\\n",
       "0               0  Cattle Colony              24.879311   \n",
       "1               0  Cattle Colony              24.879311   \n",
       "2               0  Cattle Colony              24.879311   \n",
       "3               0  Cattle Colony              24.879311   \n",
       "4               0  Cattle Colony              24.879311   \n",
       "\n",
       "   Neighborhood Longitude                  Venue  Venue Latitude  \\\n",
       "0               67.198723           Anwar Baloch       24.869620   \n",
       "1               67.198723  The Broast Restaurant       24.884536   \n",
       "2               67.198723        Student Biryani       24.884636   \n",
       "3               67.198723    Taj Chaiye Ka Hotel       24.887062   \n",
       "4               67.198723         Liaquat Market       24.887072   \n",
       "\n",
       "   Venue Longitude        Venue Category  Ratings  Tips  Price  \n",
       "0        67.200499             BBQ Joint      8.7  17.0  Cheap  \n",
       "1        67.182993  Fast Food Restaurant      8.6   5.0  Cheap  \n",
       "2        67.182260            Restaurant      8.6   5.0  Cheap  \n",
       "3        67.183052              Tea Room      8.6   5.0  Cheap  \n",
       "4        67.183061                Market      8.6   5.0  Cheap  "
      ]
     },
     "execution_count": 49,
     "metadata": {},
     "output_type": "execute_result"
    }
   ],
   "source": [
    "khi_merged.insert(0,\"Cluster Labels\",kmeans.labels_)\n",
    "khi_merged.head()"
   ]
  },
  {
   "cell_type": "markdown",
   "metadata": {},
   "source": [
    "**Finally, let's visualize the resulting clusters**"
   ]
  },
  {
   "cell_type": "code",
   "execution_count": 50,
   "metadata": {},
   "outputs": [],
   "source": [
    "map_cluster = folium.Map(location=[24.8607, 67.0011], zoom_start=12)"
   ]
  },
  {
   "cell_type": "code",
   "execution_count": 51,
   "metadata": {},
   "outputs": [
    {
     "data": {
      "text/html": [
       "<div style=\"width:100%;\"><div style=\"position:relative;width:100%;height:0;padding-bottom:60%;\"><iframe src=\"about:blank\" style=\"position:absolute;width:100%;height:100%;left:0;top:0;border:none !important;\" data-html=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 onload=\"this.contentDocument.open();this.contentDocument.write(atob(this.getAttribute('data-html')));this.contentDocument.close();\" allowfullscreen webkitallowfullscreen mozallowfullscreen></iframe></div></div>"
      ],
      "text/plain": [
       "<folium.folium.Map at 0x2a02b603c88>"
      ]
     },
     "execution_count": 51,
     "metadata": {},
     "output_type": "execute_result"
    }
   ],
   "source": [
    "color_map = { 0: 'green', 1: 'red'}\n",
    "\n",
    "for lat,lng, venue, cluster in zip(khi_merged[\"Venue Latitude\"],khi_merged[\"Venue Longitude\"],khi_merged[\"Venue\"],khi_merged[\"Cluster Labels\"]):\n",
    "    label = folium.Popup(str(venue) + ' Cluster ' + str(cluster), parse_html=True)\n",
    "    folium.CircleMarker(\n",
    "        [lat, lng],\n",
    "        radius=5,\n",
    "        popup=label,\n",
    "        color = color_map[cluster],\n",
    "        fill=True,\n",
    "        fill_color = color_map[cluster],\n",
    "        fill_opacity=0.7).add_to(map_cluster)\n",
    "       \n",
    "map_cluster"
   ]
  },
  {
   "cell_type": "markdown",
   "metadata": {},
   "source": [
    "### Examine Clusters"
   ]
  },
  {
   "cell_type": "markdown",
   "metadata": {},
   "source": [
    "#### Cluster 1"
   ]
  },
  {
   "cell_type": "code",
   "execution_count": 52,
   "metadata": {},
   "outputs": [
    {
     "data": {
      "text/html": [
       "<div>\n",
       "<style scoped>\n",
       "    .dataframe tbody tr th:only-of-type {\n",
       "        vertical-align: middle;\n",
       "    }\n",
       "\n",
       "    .dataframe tbody tr th {\n",
       "        vertical-align: top;\n",
       "    }\n",
       "\n",
       "    .dataframe thead th {\n",
       "        text-align: right;\n",
       "    }\n",
       "</style>\n",
       "<table border=\"1\" class=\"dataframe\">\n",
       "  <thead>\n",
       "    <tr style=\"text-align: right;\">\n",
       "      <th></th>\n",
       "      <th>Cluster Labels</th>\n",
       "      <th>Neighborhood</th>\n",
       "      <th>Neighborhood Latitude</th>\n",
       "      <th>Neighborhood Longitude</th>\n",
       "      <th>Venue</th>\n",
       "      <th>Venue Latitude</th>\n",
       "      <th>Venue Longitude</th>\n",
       "      <th>Venue Category</th>\n",
       "      <th>Ratings</th>\n",
       "      <th>Tips</th>\n",
       "      <th>Price</th>\n",
       "    </tr>\n",
       "  </thead>\n",
       "  <tbody>\n",
       "    <tr>\n",
       "      <th>0</th>\n",
       "      <td>0</td>\n",
       "      <td>Cattle Colony</td>\n",
       "      <td>24.879311</td>\n",
       "      <td>67.198723</td>\n",
       "      <td>Anwar Baloch</td>\n",
       "      <td>24.869620</td>\n",
       "      <td>67.200499</td>\n",
       "      <td>BBQ Joint</td>\n",
       "      <td>8.7</td>\n",
       "      <td>17.0</td>\n",
       "      <td>Cheap</td>\n",
       "    </tr>\n",
       "    <tr>\n",
       "      <th>1</th>\n",
       "      <td>0</td>\n",
       "      <td>Cattle Colony</td>\n",
       "      <td>24.879311</td>\n",
       "      <td>67.198723</td>\n",
       "      <td>The Broast Restaurant</td>\n",
       "      <td>24.884536</td>\n",
       "      <td>67.182993</td>\n",
       "      <td>Fast Food Restaurant</td>\n",
       "      <td>8.6</td>\n",
       "      <td>5.0</td>\n",
       "      <td>Cheap</td>\n",
       "    </tr>\n",
       "    <tr>\n",
       "      <th>2</th>\n",
       "      <td>0</td>\n",
       "      <td>Cattle Colony</td>\n",
       "      <td>24.879311</td>\n",
       "      <td>67.198723</td>\n",
       "      <td>Student Biryani</td>\n",
       "      <td>24.884636</td>\n",
       "      <td>67.182260</td>\n",
       "      <td>Restaurant</td>\n",
       "      <td>8.6</td>\n",
       "      <td>5.0</td>\n",
       "      <td>Cheap</td>\n",
       "    </tr>\n",
       "    <tr>\n",
       "      <th>3</th>\n",
       "      <td>0</td>\n",
       "      <td>Cattle Colony</td>\n",
       "      <td>24.879311</td>\n",
       "      <td>67.198723</td>\n",
       "      <td>Taj Chaiye Ka Hotel</td>\n",
       "      <td>24.887062</td>\n",
       "      <td>67.183052</td>\n",
       "      <td>Tea Room</td>\n",
       "      <td>8.6</td>\n",
       "      <td>5.0</td>\n",
       "      <td>Cheap</td>\n",
       "    </tr>\n",
       "    <tr>\n",
       "      <th>4</th>\n",
       "      <td>0</td>\n",
       "      <td>Cattle Colony</td>\n",
       "      <td>24.879311</td>\n",
       "      <td>67.198723</td>\n",
       "      <td>Liaquat Market</td>\n",
       "      <td>24.887072</td>\n",
       "      <td>67.183061</td>\n",
       "      <td>Market</td>\n",
       "      <td>8.6</td>\n",
       "      <td>5.0</td>\n",
       "      <td>Cheap</td>\n",
       "    </tr>\n",
       "    <tr>\n",
       "      <th>5</th>\n",
       "      <td>0</td>\n",
       "      <td>Cattle Colony</td>\n",
       "      <td>24.879311</td>\n",
       "      <td>67.198723</td>\n",
       "      <td>Jinnah Square</td>\n",
       "      <td>24.887057</td>\n",
       "      <td>67.183051</td>\n",
       "      <td>Road</td>\n",
       "      <td>8.6</td>\n",
       "      <td>5.0</td>\n",
       "      <td>Cheap</td>\n",
       "    </tr>\n",
       "    <tr>\n",
       "      <th>6</th>\n",
       "      <td>0</td>\n",
       "      <td>Cattle Colony</td>\n",
       "      <td>24.879311</td>\n",
       "      <td>67.198723</td>\n",
       "      <td>Bakra Mandi Malir</td>\n",
       "      <td>24.887085</td>\n",
       "      <td>67.183037</td>\n",
       "      <td>Market</td>\n",
       "      <td>8.2</td>\n",
       "      <td>18.0</td>\n",
       "      <td>Moderate</td>\n",
       "    </tr>\n",
       "    <tr>\n",
       "      <th>7</th>\n",
       "      <td>0</td>\n",
       "      <td>Cattle Colony</td>\n",
       "      <td>24.879311</td>\n",
       "      <td>67.198723</td>\n",
       "      <td>Mini Jet</td>\n",
       "      <td>24.887011</td>\n",
       "      <td>67.182987</td>\n",
       "      <td>Airport Terminal</td>\n",
       "      <td>8.2</td>\n",
       "      <td>18.0</td>\n",
       "      <td>Moderate</td>\n",
       "    </tr>\n",
       "    <tr>\n",
       "      <th>8</th>\n",
       "      <td>0</td>\n",
       "      <td>Cattle Colony</td>\n",
       "      <td>24.879311</td>\n",
       "      <td>67.198723</td>\n",
       "      <td>Rafah e Aam park</td>\n",
       "      <td>24.878340</td>\n",
       "      <td>67.179821</td>\n",
       "      <td>Park</td>\n",
       "      <td>8.2</td>\n",
       "      <td>18.0</td>\n",
       "      <td>Moderate</td>\n",
       "    </tr>\n",
       "    <tr>\n",
       "      <th>9</th>\n",
       "      <td>0</td>\n",
       "      <td>Green Park City</td>\n",
       "      <td>24.857659</td>\n",
       "      <td>67.222475</td>\n",
       "      <td>Quaidabad</td>\n",
       "      <td>24.855210</td>\n",
       "      <td>67.211716</td>\n",
       "      <td>Bus Station</td>\n",
       "      <td>8.2</td>\n",
       "      <td>6.0</td>\n",
       "      <td>Cheap</td>\n",
       "    </tr>\n",
       "  </tbody>\n",
       "</table>\n",
       "</div>"
      ],
      "text/plain": [
       "   Cluster Labels     Neighborhood  Neighborhood Latitude  \\\n",
       "0               0    Cattle Colony              24.879311   \n",
       "1               0    Cattle Colony              24.879311   \n",
       "2               0    Cattle Colony              24.879311   \n",
       "3               0    Cattle Colony              24.879311   \n",
       "4               0    Cattle Colony              24.879311   \n",
       "5               0    Cattle Colony              24.879311   \n",
       "6               0    Cattle Colony              24.879311   \n",
       "7               0    Cattle Colony              24.879311   \n",
       "8               0    Cattle Colony              24.879311   \n",
       "9               0  Green Park City              24.857659   \n",
       "\n",
       "   Neighborhood Longitude                  Venue  Venue Latitude  \\\n",
       "0               67.198723           Anwar Baloch       24.869620   \n",
       "1               67.198723  The Broast Restaurant       24.884536   \n",
       "2               67.198723        Student Biryani       24.884636   \n",
       "3               67.198723    Taj Chaiye Ka Hotel       24.887062   \n",
       "4               67.198723         Liaquat Market       24.887072   \n",
       "5               67.198723          Jinnah Square       24.887057   \n",
       "6               67.198723      Bakra Mandi Malir       24.887085   \n",
       "7               67.198723               Mini Jet       24.887011   \n",
       "8               67.198723       Rafah e Aam park       24.878340   \n",
       "9               67.222475              Quaidabad       24.855210   \n",
       "\n",
       "   Venue Longitude        Venue Category  Ratings  Tips     Price  \n",
       "0        67.200499             BBQ Joint      8.7  17.0     Cheap  \n",
       "1        67.182993  Fast Food Restaurant      8.6   5.0     Cheap  \n",
       "2        67.182260            Restaurant      8.6   5.0     Cheap  \n",
       "3        67.183052              Tea Room      8.6   5.0     Cheap  \n",
       "4        67.183061                Market      8.6   5.0     Cheap  \n",
       "5        67.183051                  Road      8.6   5.0     Cheap  \n",
       "6        67.183037                Market      8.2  18.0  Moderate  \n",
       "7        67.182987      Airport Terminal      8.2  18.0  Moderate  \n",
       "8        67.179821                  Park      8.2  18.0  Moderate  \n",
       "9        67.211716           Bus Station      8.2   6.0     Cheap  "
      ]
     },
     "execution_count": 52,
     "metadata": {},
     "output_type": "execute_result"
    }
   ],
   "source": [
    "c1 = khi_merged[khi_merged[\"Cluster Labels\"] == 0]\n",
    "c1.head(10)"
   ]
  },
  {
   "cell_type": "code",
   "execution_count": 53,
   "metadata": {},
   "outputs": [
    {
     "data": {
      "text/plain": [
       "(240, 11)"
      ]
     },
     "execution_count": 53,
     "metadata": {},
     "output_type": "execute_result"
    }
   ],
   "source": [
    "c1.shape"
   ]
  },
  {
   "cell_type": "code",
   "execution_count": 54,
   "metadata": {},
   "outputs": [
    {
     "name": "stdout",
     "output_type": "stream",
     "text": [
      "These venues for cluster 1 have mean rating 6.72\n"
     ]
    }
   ],
   "source": [
    "print(\"These venues for cluster 1 have mean rating {:.2f}\".\n",
    "      format(c1['Ratings'].mean()))"
   ]
  },
  {
   "cell_type": "markdown",
   "metadata": {},
   "source": [
    "#### Cluster 2"
   ]
  },
  {
   "cell_type": "code",
   "execution_count": 55,
   "metadata": {},
   "outputs": [
    {
     "data": {
      "text/html": [
       "<div>\n",
       "<style scoped>\n",
       "    .dataframe tbody tr th:only-of-type {\n",
       "        vertical-align: middle;\n",
       "    }\n",
       "\n",
       "    .dataframe tbody tr th {\n",
       "        vertical-align: top;\n",
       "    }\n",
       "\n",
       "    .dataframe thead th {\n",
       "        text-align: right;\n",
       "    }\n",
       "</style>\n",
       "<table border=\"1\" class=\"dataframe\">\n",
       "  <thead>\n",
       "    <tr style=\"text-align: right;\">\n",
       "      <th></th>\n",
       "      <th>Cluster Labels</th>\n",
       "      <th>Neighborhood</th>\n",
       "      <th>Neighborhood Latitude</th>\n",
       "      <th>Neighborhood Longitude</th>\n",
       "      <th>Venue</th>\n",
       "      <th>Venue Latitude</th>\n",
       "      <th>Venue Longitude</th>\n",
       "      <th>Venue Category</th>\n",
       "      <th>Ratings</th>\n",
       "      <th>Tips</th>\n",
       "      <th>Price</th>\n",
       "    </tr>\n",
       "  </thead>\n",
       "  <tbody>\n",
       "    <tr>\n",
       "      <th>21</th>\n",
       "      <td>1</td>\n",
       "      <td>Mujahid Colony</td>\n",
       "      <td>24.900509</td>\n",
       "      <td>67.103604</td>\n",
       "      <td>Khyber Shinwari</td>\n",
       "      <td>24.900789</td>\n",
       "      <td>67.113468</td>\n",
       "      <td>BBQ Joint</td>\n",
       "      <td>7.7</td>\n",
       "      <td>72.0</td>\n",
       "      <td>Cheap</td>\n",
       "    </tr>\n",
       "    <tr>\n",
       "      <th>23</th>\n",
       "      <td>1</td>\n",
       "      <td>Mujahid Colony</td>\n",
       "      <td>24.900509</td>\n",
       "      <td>67.103604</td>\n",
       "      <td>Al Fakhir Shisha Cafe</td>\n",
       "      <td>24.900929</td>\n",
       "      <td>67.112403</td>\n",
       "      <td>Hookah Bar</td>\n",
       "      <td>7.7</td>\n",
       "      <td>72.0</td>\n",
       "      <td>Cheap</td>\n",
       "    </tr>\n",
       "    <tr>\n",
       "      <th>24</th>\n",
       "      <td>1</td>\n",
       "      <td>Mujahid Colony</td>\n",
       "      <td>24.900509</td>\n",
       "      <td>67.103604</td>\n",
       "      <td>Hobnob</td>\n",
       "      <td>24.906093</td>\n",
       "      <td>67.110902</td>\n",
       "      <td>Bakery</td>\n",
       "      <td>7.7</td>\n",
       "      <td>72.0</td>\n",
       "      <td>Cheap</td>\n",
       "    </tr>\n",
       "    <tr>\n",
       "      <th>38</th>\n",
       "      <td>1</td>\n",
       "      <td>Mujahid Colony</td>\n",
       "      <td>24.900509</td>\n",
       "      <td>67.103604</td>\n",
       "      <td>Balochistan Sajji</td>\n",
       "      <td>24.908155</td>\n",
       "      <td>67.119477</td>\n",
       "      <td>BBQ Joint</td>\n",
       "      <td>7.5</td>\n",
       "      <td>123.0</td>\n",
       "      <td>Cheap</td>\n",
       "    </tr>\n",
       "    <tr>\n",
       "      <th>39</th>\n",
       "      <td>1</td>\n",
       "      <td>Mujahid Colony</td>\n",
       "      <td>24.900509</td>\n",
       "      <td>67.103604</td>\n",
       "      <td>Nueplex Cinemas</td>\n",
       "      <td>24.899050</td>\n",
       "      <td>67.117279</td>\n",
       "      <td>Multiplex</td>\n",
       "      <td>7.5</td>\n",
       "      <td>123.0</td>\n",
       "      <td>Cheap</td>\n",
       "    </tr>\n",
       "  </tbody>\n",
       "</table>\n",
       "</div>"
      ],
      "text/plain": [
       "    Cluster Labels    Neighborhood  Neighborhood Latitude  \\\n",
       "21               1  Mujahid Colony              24.900509   \n",
       "23               1  Mujahid Colony              24.900509   \n",
       "24               1  Mujahid Colony              24.900509   \n",
       "38               1  Mujahid Colony              24.900509   \n",
       "39               1  Mujahid Colony              24.900509   \n",
       "\n",
       "    Neighborhood Longitude                  Venue  Venue Latitude  \\\n",
       "21               67.103604        Khyber Shinwari       24.900789   \n",
       "23               67.103604  Al Fakhir Shisha Cafe       24.900929   \n",
       "24               67.103604                 Hobnob       24.906093   \n",
       "38               67.103604      Balochistan Sajji       24.908155   \n",
       "39               67.103604        Nueplex Cinemas       24.899050   \n",
       "\n",
       "    Venue Longitude Venue Category  Ratings   Tips  Price  \n",
       "21        67.113468      BBQ Joint      7.7   72.0  Cheap  \n",
       "23        67.112403     Hookah Bar      7.7   72.0  Cheap  \n",
       "24        67.110902         Bakery      7.7   72.0  Cheap  \n",
       "38        67.119477      BBQ Joint      7.5  123.0  Cheap  \n",
       "39        67.117279      Multiplex      7.5  123.0  Cheap  "
      ]
     },
     "execution_count": 55,
     "metadata": {},
     "output_type": "execute_result"
    }
   ],
   "source": [
    "c2 = khi_merged[khi_merged[\"Cluster Labels\"] == 1]\n",
    "c2.head()"
   ]
  },
  {
   "cell_type": "code",
   "execution_count": 56,
   "metadata": {},
   "outputs": [
    {
     "data": {
      "text/plain": [
       "(7, 11)"
      ]
     },
     "execution_count": 56,
     "metadata": {},
     "output_type": "execute_result"
    }
   ],
   "source": [
    "c2.shape"
   ]
  },
  {
   "cell_type": "code",
   "execution_count": 57,
   "metadata": {},
   "outputs": [
    {
     "name": "stdout",
     "output_type": "stream",
     "text": [
      "These venues for cluster 1 have mean rating 7.59\n"
     ]
    }
   ],
   "source": [
    "print(\"These venues for cluster 1 have mean rating {:.2f}\".\n",
    "      format(c2['Ratings'].mean()))"
   ]
  },
  {
   "cell_type": "markdown",
   "metadata": {},
   "source": [
    "## Results and Discussion <a name=\"rd\"></a>"
   ]
  },
  {
   "cell_type": "markdown",
   "metadata": {},
   "source": [
    "Based on our analysis above, we can draw a number of conclusions that will be useful to aid any visitor visiting the City of Lights Karachi, Pakistan."
   ]
  },
  {
   "cell_type": "markdown",
   "metadata": {},
   "source": [
    "After collecting data from the Foursquare API, we got a list of 3113 different venues. However, we narrow it down to only 500 venues due to limitation of Premium API Calls.\n",
    "\n",
    "From the above result we can identift that majority of venues are in Clifton, Mehmodabad and Bath Island. Also from list of venues majority them were Fast Food Restaurant, Markets and BBQ joint. A visitor who loves Fast Food would surely benefit from coming to Karachi.\n",
    "\n",
    "While the complete range of ratings range from 1 to 10, the majority venues have ratings close to 9. This means that most restaurants provide good quality food which is liked by the people of the city, thus indicating the high rating. From the data we also identift that most high rated restaurant are in Cattle Colony.\n",
    "\n",
    "\n",
    "When we take a look at the price ranges of each venue, we explore that many majority venues have lower prices. We also explore that majoirty of lower price range restaurants are in Gulshan-e-Iqbal."
   ]
  },
  {
   "cell_type": "markdown",
   "metadata": {},
   "source": [
    "Finally, through clusters we identified that there are many venues which are relatively lower priced but have an average rating of 3.57. On the other hand, there are few venues which are high priced and have average rating of 4.03.\n",
    "\n",
    "If you're looking for cheap places with relatively high rating, you should check Gulshan-e-Iqbal.\n",
    "If you're looking for the best places, with the highest rating but might also carry a high price tag, you should visit Clifton.\n",
    "\n",
    "A company can use this information to build up an online website/mobile application, to provide users with up to date information about various venues in the city based on the search criteria (name, rating and price)."
   ]
  },
  {
   "cell_type": "markdown",
   "metadata": {},
   "source": [
    "## Conclusion <a name=\"conc\"></a>"
   ]
  },
  {
   "cell_type": "markdown",
   "metadata": {},
   "source": [
    "The purpose of this project was to explore the places that a person visiting Karachi could visit. The venues have been identified using Foursquare API and have been plotted on the map. The map reveals that there are three major areas a person can visit: Cattle Colony, Clifton & Gulshan-e-Iqbal. Based on the visitor's venue rating and price requirements, he/she can choose amongst the three places."
   ]
  }
 ],
 "metadata": {
  "kernelspec": {
   "display_name": "Python 3",
   "language": "python",
   "name": "python3"
  },
  "language_info": {
   "codemirror_mode": {
    "name": "ipython",
    "version": 3
   },
   "file_extension": ".py",
   "mimetype": "text/x-python",
   "name": "python",
   "nbconvert_exporter": "python",
   "pygments_lexer": "ipython3",
   "version": "3.7.0"
  }
 },
 "nbformat": 4,
 "nbformat_minor": 4
}
